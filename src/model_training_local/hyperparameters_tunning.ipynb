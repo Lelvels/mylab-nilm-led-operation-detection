{
 "cells": [
  {
   "cell_type": "code",
   "execution_count": 2,
   "metadata": {},
   "outputs": [],
   "source": [
    "from sklearn.svm import SVC\n",
    "from sklearn.ensemble import RandomForestClassifier\n",
    "from sklearn.linear_model import SGDClassifier\n",
    "from xgboost import XGBClassifier\n",
    "from sklearn.model_selection import GridSearchCV, RandomizedSearchCV, cross_val_score, RepeatedStratifiedKFold\n",
    "from scipy.stats import randint, uniform, loguniform\n",
    "import time  # Just to compare fit times\n",
    "\n",
    "import os\n",
    "import pandas as pd\n",
    "import matplotlib.pyplot as plt\n",
    "import numpy as np\n",
    "from dotenv import load_dotenv \n",
    "import glob\n",
    "\n",
    "from sklearn.model_selection import train_test_split\n",
    "from sklearn.preprocessing import LabelEncoder\n",
    "from sklearn.metrics import accuracy_score, classification_report, roc_auc_score, roc_curve, confusion_matrix, precision_score, recall_score, f1_score\n",
    "from sklearn.metrics import classification_report"
   ]
  },
  {
   "cell_type": "markdown",
   "metadata": {},
   "source": [
    "# Import data"
   ]
  },
  {
   "cell_type": "code",
   "execution_count": 3,
   "metadata": {},
   "outputs": [
    {
     "name": "stdout",
     "output_type": "stream",
     "text": [
      "/home/mrcong/code/python/nilm_cong_son/data/clean_data/approach1/fft_data/train_dataset\n",
      "/home/mrcong/code/python/nilm_cong_son/data/clean_data/approach1/fft_data/validation_dataset\n"
     ]
    }
   ],
   "source": [
    "load_dotenv(dotenv_path=\"../.env\")\n",
    "UNCLEAN_FFT_FILE_PATH = os.getenv(\"UNCLEAN_FFT_DATA_PATH\")\n",
    "CLEAN_FFT_DATA_PATH_AP1 = os.getenv(\"CLEAN_FFT_DATA_PATH_AP1\")\n",
    "CLEAN_FFT_DATA_PATH_AP2 = os.getenv(\"CLEAN_FFT_DATA_PATH_AP2\")\n",
    "\n",
    "train_path = CLEAN_FFT_DATA_PATH_AP1 + \"/train_dataset\"\n",
    "validation_path = CLEAN_FFT_DATA_PATH_AP1 + \"/validation_dataset\"\n",
    "\n",
    "print(train_path)\n",
    "print(validation_path)"
   ]
  },
  {
   "cell_type": "code",
   "execution_count": 4,
   "metadata": {},
   "outputs": [],
   "source": [
    "def count_labels_in_directory(dir_path: str):\n",
    "    # Define the prefixes\n",
    "    prefixes = ['error', 'normal', 'zero', 'overcurrent', 'overheating']\n",
    "\n",
    "    # Count files for each prefix\n",
    "    file_counts = {}\n",
    "\n",
    "    for prefix in prefixes:\n",
    "        pattern = f\"{dir_path}/{prefix}_*\"\n",
    "        files = glob.glob(pattern)\n",
    "        file_counts[prefix] = len(files)\n",
    "\n",
    "    # Print the results\n",
    "    for prefix, count in file_counts.items():\n",
    "        print(f\"There are {count} files with the prefix '{prefix}' in the directory.\")\n",
    "        \n",
    "def read_data_from_dir(dir_path):\n",
    "    # Initialize lists to store data\n",
    "    amplitude_data = []\n",
    "    label_data = []\n",
    "    file_name_data = []\n",
    "    frequency_array = []\n",
    "    # Iterate through each prefix\n",
    "    for prefix in ['error', 'normal', 'zero', 'overcurrent', 'overheating']:\n",
    "        pattern = f\"{dir_path}/{prefix}_*.csv\"\n",
    "        files = glob.glob(pattern)\n",
    "        df = None\n",
    "        # Read Amplitude column from each file\n",
    "        for file in files:\n",
    "            df = pd.read_csv(file)\n",
    "            # Extract Amplitude column\n",
    "            amplitude = df['Amplitude'].values.tolist()\n",
    "            # Store data in lists\n",
    "            amplitude_data.append(amplitude)\n",
    "            label_data.append(prefix)\n",
    "            file_name_data.append(os.path.basename(file))\n",
    "    # Convert lists to numpy arrays if needed\n",
    "    amplitude_array = np.array(amplitude_data)\n",
    "    label_array = np.array(label_data)\n",
    "    file_name_array = np.array(file_name_data)\n",
    "    frequency_array = np.array(df['Frequency'].values.tolist())\n",
    "    return amplitude_array, label_array, file_name_array, frequency_array\n",
    "\n",
    "def check_data_distribution(array):\n",
    "    unique_labels, label_counts = np.unique(array, return_counts=True)\n",
    "\n",
    "    distribution = dict(zip(unique_labels, label_counts))\n",
    "    return distribution\n",
    "\n",
    "def evaluate_and_print_results(model, X_test, y_test, label_encoder: LabelEncoder):\n",
    "    # Dự đoán nhãn cho tập test\n",
    "    y_test_pred = model.predict(X_test)\n",
    "\n",
    "    # Tính toán độ chính xác\n",
    "    accuracy = accuracy_score(y_test, y_test_pred)\n",
    "    \n",
    "    #conf_matrix to return\n",
    "    conf_matrix = confusion_matrix(y_test, y_test_pred)\n",
    "\n",
    "    # Tính toán F1-Score\n",
    "    f1_micro = f1_score(y_test, y_test_pred, average='micro')\n",
    "    f1_macro = f1_score(y_test, y_test_pred, average='macro')\n",
    "    f1_weighted = f1_score(y_test, y_test_pred, average='weighted')\n",
    "    #Precision and recall\n",
    "    precision = precision_score(y_test, y_test_pred, average='weighted')  \n",
    "    recall = recall_score(y_test, y_test_pred, average='weighted')\n",
    "    \n",
    "    # Dự đoán scores để tính AUC\n",
    "    y_test_scores = model.predict_proba(X_test)\n",
    "    \n",
    "    # Tính AUC cho từng lớp và tính trung bình (macro-average) AUC\n",
    "    n_classes = len(np.unique(y_test))  # Assuming labels start from 0\n",
    "    auc_values = []\n",
    "    for i in range(n_classes):\n",
    "        # Create binary labels for each class\n",
    "        y_test_class = np.where(y_test == i, 1, 0)\n",
    "        auc = roc_auc_score(y_test_class, y_test_scores[:, i])\n",
    "        auc_values.append(auc)\n",
    "    # Tính trung bình AUC (macro-average)\n",
    "    macro_avg_auc = np.mean(auc_values) if len(auc_values) > 0 else 0  # Avoid division by zero if auc_values is empty\n",
    "    \n",
    "    #Revert transform\n",
    "    y_test = label_encoder.inverse_transform(y_test)\n",
    "    y_test_pred = label_encoder.inverse_transform(y_test_pred)\n",
    "    \n",
    "    # Print results\n",
    "    print(classification_report(y_test, y_test_pred))\n",
    "    print()\n",
    "    print(\"Custom reports\")\n",
    "    print(f\"Precision: {precision}\")\n",
    "    print(f\"Recall: {recall}\")\n",
    "    print(f\"Accuracy: {accuracy}\")\n",
    "    print(f\"F1-Score (Micro): {f1_micro}\")\n",
    "    print(f\"F1-Score (Macro): {f1_macro}\")\n",
    "    print(f\"F1-Score (Weighted): {f1_weighted}\")\n",
    "    print(f\"Macro-average AUC (SVM): {macro_avg_auc}\")\n",
    "    \n",
    "    return conf_matrix\n",
    "\n",
    "\n",
    "def conf_matrix_plot(conf_matrix, model_name):\n",
    "    # Define the class labels\n",
    "    class_labels = ['error', 'normal', 'overcurrent', 'overheating', 'zero']\n",
    "\n",
    "    # Create a mappable object for the confusion matrix.\n",
    "    mappable = plt.imshow(conf_matrix, cmap='Blues')\n",
    "\n",
    "    # Plot the colorbar.\n",
    "    plt.colorbar(mappable)\n",
    "\n",
    "    # Add labels to the plot using the class labels.\n",
    "    plt.xticks(np.arange(len(class_labels)), class_labels, rotation=45)\n",
    "    plt.yticks(np.arange(len(class_labels)), class_labels)\n",
    "\n",
    "    # Add text to the confusion matrix.\n",
    "    for i in range(len(class_labels)):\n",
    "        for j in range(len(class_labels)):\n",
    "            plt.text(j, i, conf_matrix[i, j], ha='center', va='center')\n",
    "\n",
    "    # Set plot title and labels\n",
    "    plt.xlabel('Predicted label')\n",
    "    plt.ylabel('True label')\n",
    "    plt.title(f'{model_name} confusion matrix')\n",
    "\n",
    "    plt.show()\n",
    "    \n",
    "def plot_freq_spectrum(frequency_data, signal, file_name):\n",
    "    plt.stem(frequency_data[1:4501], signal[1:4501], 'b', markerfmt=\" \", basefmt=\"-b\")\n",
    "    plt.title(f\"Frequency spectrum of {file_name}\")\n",
    "    plt.xlabel('Freq (Hz)')\n",
    "    plt.ylabel('FFT Amplitude |X(freq)|')\n",
    "    \n",
    "def evaluate_models(model, X_test, y_test):\n",
    "    # Dự đoán nhãn cho tập test\n",
    "    y_test_pred = model.predict(X_test)\n",
    "    # Tính toán độ chính xác\n",
    "    accuracy = accuracy_score(y_test, y_test_pred)\n",
    "    # Tính toán F1-Score\n",
    "    f1_macro = f1_score(y_test, y_test_pred, average='macro', zero_division=np.nan)\n",
    "    #Precision and recall\n",
    "    precision = precision_score(y_test, y_test_pred, average='weighted', zero_division=np.nan)  \n",
    "    recall = recall_score(y_test, y_test_pred, average='weighted', zero_division=np.nan)\n",
    "    # Dự đoán scores để tính AUC\n",
    "    y_test_scores = model.predict_proba(X_test)\n",
    "    # Tính AUC cho từng lớp và tính trung bình (macro-average) AUC\n",
    "    n_classes = len(np.unique(y_test))  # Assuming labels start from 0\n",
    "    auc_values = []\n",
    "    for i in range(n_classes):\n",
    "        # Create binary labels for each class\n",
    "        y_test_class = np.where(y_test == i, 1, 0)\n",
    "        auc = roc_auc_score(y_test_class, y_test_scores[:, i])\n",
    "        auc_values.append(auc)\n",
    "    # Tính trung bình AUC (macro-average)\n",
    "    macro_avg_auc = np.mean(auc_values) if len(auc_values) > 0 else 0  # Avoid division by zero if auc_values is empty\n",
    "    \n",
    "    return precision, recall, accuracy, f1_macro, macro_avg_auc"
   ]
  },
  {
   "cell_type": "code",
   "execution_count": 5,
   "metadata": {},
   "outputs": [],
   "source": [
    "train_ampls, y_train, train_file_names, _ = read_data_from_dir(dir_path=train_path)\n",
    "validation_ampls, y_validation, validation_file_names, frequency_array = read_data_from_dir(dir_path=validation_path)"
   ]
  },
  {
   "cell_type": "code",
   "execution_count": 6,
   "metadata": {},
   "outputs": [
    {
     "name": "stdout",
     "output_type": "stream",
     "text": [
      "Train dataset: X: (8290, 4501), y: (8290,)\n",
      "Validation dataset: X: (1778, 4501), y: (1778,)\n",
      "Frequency_data: (4501,)\n"
     ]
    }
   ],
   "source": [
    "print(f\"Train dataset: X: {train_ampls.shape}, y: {y_train.shape}\")\n",
    "print(f\"Validation dataset: X: {validation_ampls.shape}, y: {y_validation.shape}\")\n",
    "print(f\"Frequency_data: {frequency_array.shape}\")"
   ]
  },
  {
   "cell_type": "markdown",
   "metadata": {},
   "source": [
    "__Label encoder__"
   ]
  },
  {
   "cell_type": "code",
   "execution_count": 7,
   "metadata": {},
   "outputs": [],
   "source": [
    "# Chuyển đổi danh sách labels thành mã số\n",
    "label_encoder = LabelEncoder()\n",
    "y_train = label_encoder.fit_transform(y_train)\n",
    "y_validation = label_encoder.transform(y_validation)"
   ]
  },
  {
   "cell_type": "code",
   "execution_count": 8,
   "metadata": {},
   "outputs": [
    {
     "name": "stdout",
     "output_type": "stream",
     "text": [
      "['error', 'normal', 'overcurrent', 'overheating', 'zero']\n",
      "[0 1 2 3 4]\n"
     ]
    }
   ],
   "source": [
    "print(list(label_encoder.classes_))\n",
    "print(label_encoder.transform(list(label_encoder.classes_)))"
   ]
  },
  {
   "cell_type": "markdown",
   "metadata": {},
   "source": [
    "# Feature selection"
   ]
  },
  {
   "cell_type": "markdown",
   "metadata": {},
   "source": [
    "## Finding top 50 highest amplitudes"
   ]
  },
  {
   "cell_type": "code",
   "execution_count": 9,
   "metadata": {},
   "outputs": [],
   "source": [
    "def find_top_k_indices(amplitudes, k):\n",
    "    # Get the indices of the top 50 elements\n",
    "    top_k_indices = np.argsort(amplitudes)[-k:][::-1]\n",
    "    highest_ampls = amplitudes[top_k_indices]\n",
    "    return highest_ampls\n",
    "\n",
    "def get_x_by_top_ampls(k, ampls):\n",
    "    X = []\n",
    "    for ampl in ampls:\n",
    "        X.append(find_top_k_indices(amplitudes=ampl, k=k))\n",
    "    return np.array(X)"
   ]
  },
  {
   "cell_type": "markdown",
   "metadata": {},
   "source": [
    "__Optimal k__\n",
    "- SVM, Random Forest -> k=1\n",
    "- XgBoost -> k=601"
   ]
  },
  {
   "cell_type": "code",
   "execution_count": 10,
   "metadata": {},
   "outputs": [],
   "source": [
    "X_train_601 = get_x_by_top_ampls(k=601, ampls=train_ampls)\n",
    "X_validation_601 = get_x_by_top_ampls(k=601, ampls=validation_ampls)\n",
    "X_train_1 = get_x_by_top_ampls(k=1, ampls=train_ampls)\n",
    "X_validation_1 = get_x_by_top_ampls(k=1, ampls=validation_ampls) "
   ]
  },
  {
   "cell_type": "code",
   "execution_count": 11,
   "metadata": {},
   "outputs": [],
   "source": [
    "X_all_601 = np.concatenate([X_train_601, X_validation_601])\n",
    "X_all_1 = np.concatenate([X_train_1, X_validation_1])\n",
    "y_all = np.concatenate([y_train, y_validation])"
   ]
  },
  {
   "cell_type": "code",
   "execution_count": 12,
   "metadata": {},
   "outputs": [
    {
     "name": "stdout",
     "output_type": "stream",
     "text": [
      "(8290, 1) (1778, 1) (8290, 601) (1778, 601) (10068, 601) (10068, 1) (10068,)\n"
     ]
    }
   ],
   "source": [
    "print(X_train_1.shape, X_validation_1.shape, X_train_601.shape, X_validation_601.shape, X_all_601.shape, X_all_1.shape, y_all.shape)"
   ]
  },
  {
   "cell_type": "markdown",
   "metadata": {},
   "source": [
    "# Hyperparameter tuning"
   ]
  },
  {
   "cell_type": "markdown",
   "metadata": {},
   "source": [
    "__Different hyperparameter methods__\n",
    "- GridSeachCV -> expensive\n",
    "- Bayesian Optimization\n",
    "- More on: https://www.analyticsvidhya.com/blog/2022/02/a-comprehensive-guide-on-hyperparameter-tuning-and-its-techniques/"
   ]
  },
  {
   "cell_type": "markdown",
   "metadata": {},
   "source": [
    "- SVM -> optimize: C, gamma, kernel: 'rbf' default, https://stackabuse.com/understanding-svm-hyperparameters/, https://www.kaggle.com/code/rajeevnair676/svm-hyperparameter-tuning\n",
    "- Random Forest: https://www.analyticsvidhya.com/blog/2020/03/beginners-guide-random-forest-hyperparameter-tuning/\n",
    "- XgBoost: https://www.kaggle.com/code/prashant111/a-guide-on-xgboost-hyperparameters-tuning"
   ]
  },
  {
   "cell_type": "code",
   "execution_count": 17,
   "metadata": {},
   "outputs": [],
   "source": [
    "from sklearn.svm import SVC\n",
    "from sklearn.metrics import accuracy_score\n",
    "from sklearn.model_selection import train_test_split\n",
    "from sklearn.base import clone\n",
    "import itertools\n",
    "\n",
    "class SimpleGridSearch:\n",
    "    def __init__(self, model, param_grid):\n",
    "        self.model = model\n",
    "        self.param_grid = param_grid\n",
    "        self.results = {}  # To store results for each hyperparameter combination\n",
    "        self.best_params_ = None\n",
    "        self.best_estimator_ = None\n",
    "\n",
    "    def fit(self, X_train, y_train, X_val, y_val):\n",
    "        total_combinations = len(list(self._generate_param_combinations()))\n",
    "        print(f\"Total hyperparameter combinations: {total_combinations}\")\n",
    "\n",
    "        best_score = -1\n",
    "        current_combination = 0\n",
    "\n",
    "        for params in self._generate_param_combinations():\n",
    "            model = clone(self.model)\n",
    "            model.set_params(**params)\n",
    "            model.fit(X_train, y_train)\n",
    "\n",
    "            y_pred_val = model.predict(X_val)\n",
    "            score = accuracy_score(y_val, y_pred_val)\n",
    "\n",
    "            # Store the results for each combination\n",
    "            self.results[str(params)] = {'params': params, 'score': score}\n",
    "\n",
    "            current_combination += 1\n",
    "            progress_percent = (current_combination / total_combinations) * 100\n",
    "            print(f\"Progress: {progress_percent:.2f}% - Combination {current_combination}/{total_combinations}\")\n",
    "\n",
    "            if score > best_score:\n",
    "                best_score = score\n",
    "                self.best_params_ = params\n",
    "                self.best_estimator_ = model\n",
    "\n",
    "    def _generate_param_combinations(self):\n",
    "        # Generate all combinations of hyperparameters\n",
    "        param_names = list(self.param_grid.keys())\n",
    "        param_values = list(self.param_grid.values())\n",
    "\n",
    "        for combination in itertools.product(*param_values):\n",
    "            yield dict(zip(param_names, combination))\n",
    "\n",
    "    def view_results(self):\n",
    "        for params_str, result in self.results.items():\n",
    "            print(f\"Hyperparameters: {result['params']}, Validation Accuracy: {result['score']}\")"
   ]
  },
  {
   "cell_type": "markdown",
   "metadata": {},
   "source": [
    "## SVM tunning"
   ]
  },
  {
   "cell_type": "markdown",
   "metadata": {},
   "source": [
    "__Range tham số__\n",
    "- C: [1e-6, 1e-5, 1e-4, 1e-3, 1e-2, 1, 10, 100]\n",
    "- Kernel: ['linear', 'poly', 'rbf', 'sigmoid']\n",
    "- Degree: [1, 2, 3, 4, 5] -> poly\n",
    "- Gamma: [1e-3, 1e-2, 1e-1, 1, 10, 100, 100]\n",
    "\n",
    "__Default params__\n",
    "- 'C': 1.0,\n",
    "- 'break_ties': False,\n",
    "- 'cache_size': 200,\n",
    "- 'class_weight': None,\n",
    "- 'coef0': 0.0,\n",
    "- 'decision_function_shape': 'ovr',\n",
    "- 'degree': 3,\n",
    "- 'gamma': 'scale',\n",
    "- 'kernel': 'rbf',\n",
    "- 'max_iter': -1,\n",
    "- 'probability': False,\n",
    "- 'random_state': 42,\n",
    "- 'shrinking': True,\n",
    "- 'tol': 0.001,\n",
    "- 'verbose': False"
   ]
  },
  {
   "attachments": {
    "image.png": {
     "image/png": "[encoded data removed]"
    }
   },
   "cell_type": "markdown",
   "metadata": {},
   "source": [
    "![image.png](attachment:image.png)"
   ]
  },
  {
   "cell_type": "markdown",
   "metadata": {},
   "source": [
    "__Default models__"
   ]
  },
  {
   "cell_type": "markdown",
   "metadata": {},
   "source": [
    "__Khảo sát từng tham số bằng cơm__"
   ]
  },
  {
   "cell_type": "code",
   "execution_count": 13,
   "metadata": {},
   "outputs": [],
   "source": [
    "C_params = [1e-3, 1e-2, 1e-1, 1, 10, 100, 1000]\n",
    "kernel_params = ['linear', 'poly', 'rbf'] \n",
    "degrees = [1, 2, 3, 4, 5]\n",
    "gamma = 'scale' #Only for RBF"
   ]
  },
  {
   "cell_type": "code",
   "execution_count": 30,
   "metadata": {},
   "outputs": [],
   "source": [
    "svm_all_search_space = {\n",
    "    'kernel': ['poly', 'rbf'],\n",
    "    'C': [1e-3, 1e-2, 1e-1, 1, 1e1, 1e2, 1e3, 1e4],\n",
    "    'degree': [1, 2, 3, 4, 5],\n",
    "    'gamma': [1e-1, 1, 1e1, 1e2, 1e3, 1e4, 1e5, 'scale']\n",
    "}\n",
    "\n",
    "search_space_kernel = {\n",
    "    'kernel': ['linear', 'poly', 'rbf', 'sigmoid']\n",
    "}\n",
    "\n",
    "search_space_rbf_gamma_1 = {\n",
    "    'kernel': ['rbf'],\n",
    "    'C': [1],\n",
    "    'gamma': [1e-3, 1e-2, 1e-1, 1, 10, 100, 1000]\n",
    "}\n",
    "\n",
    "search_space_rbf_gamma_2 = {\n",
    "    'kernel': ['rbf'],\n",
    "    'C': [1],\n",
    "    'gamma': [2e3, 'scale', 5e3, 1e4, 1e5, 1e6, 5e6, 1e7]\n",
    "}\n",
    "\n",
    "search_space_rbf_C_2 = {\n",
    "    'kernel': ['rbf'],\n",
    "    'C': [1e3, 1e4, 1e5],\n",
    "    'gamma': [1e6, 1e7]\n",
    "}\n",
    "\n",
    "search_space_poly = {\n",
    "    'kernel': ['poly'],\n",
    "    'C': [1e-3, 1e-2, 1e-1, 1, 1e1, 1e2, 1e3],\n",
    "    # 'C': [1],\n",
    "    # 'degree': [1, 2, 3, 4],\n",
    "    'degree': [3],\n",
    "    # 'gamma': [1e-1, 1, 1e1, 1e2, 1e3, 1e4, 1e5]\n",
    "    'gamma': ['scale']\n",
    "}"
   ]
  },
  {
   "cell_type": "markdown",
   "metadata": {},
   "source": [
    "__Sử dụng My Search CV__"
   ]
  },
  {
   "cell_type": "code",
   "execution_count": 24,
   "metadata": {},
   "outputs": [
    {
     "name": "stdout",
     "output_type": "stream",
     "text": [
      "Best Parameters (Simple Grid Search): {'kernel': 'poly'}\n",
      "Hyperparameters: {'kernel': 'linear'}, Validation Accuracy: 0.44431946006749157\n",
      "Hyperparameters: {'kernel': 'poly'}, Validation Accuracy: 0.9201349831271091\n",
      "Hyperparameters: {'kernel': 'rbf'}, Validation Accuracy: 0.9184476940382452\n",
      "Hyperparameters: {'kernel': 'sigmoid'}, Validation Accuracy: 0.02924634420697413\n"
     ]
    }
   ],
   "source": [
    "# Create the SVM model\n",
    "svc = SVC(random_state=42, probability=False)\n",
    "# Create the SimpleGridSearch object\n",
    "grid_search = SimpleGridSearch(svc, search_space_kernel)\n",
    "# Fit the simple grid search to your data\n",
    "grid_search.fit(X_train=X_train_1, y_train=y_train, X_val=X_validation_1, y_val=y_validation)\n",
    "# Get the best parameters and the corresponding best score\n",
    "best_params_simple = grid_search.best_params_\n",
    "# Print the best results from simple grid search\n",
    "print(\"Best Parameters (Simple Grid Search):\", best_params_simple)\n",
    "# View all results\n",
    "grid_search.view_results()"
   ]
  },
  {
   "cell_type": "markdown",
   "metadata": {},
   "source": [
    "__Sử dụng GridSearchCV__"
   ]
  },
  {
   "cell_type": "code",
   "execution_count": 25,
   "metadata": {},
   "outputs": [
    {
     "name": "stdout",
     "output_type": "stream",
     "text": [
      "Fitting 5 folds for each of 4 candidates, totalling 20 fits\n",
      "[CV 1/5; 1/4] START kernel=linear...............................................\n",
      "[CV 1/5; 1/4] END ................kernel=linear;, score=0.454 total time=   1.8s\n",
      "[CV 2/5; 1/4] START kernel=linear...............................................\n",
      "[CV 2/5; 1/4] END ................kernel=linear;, score=0.452 total time=   1.8s\n",
      "[CV 3/5; 1/4] START kernel=linear...............................................\n",
      "[CV 3/5; 1/4] END ................kernel=linear;, score=0.461 total time=   1.8s\n",
      "[CV 4/5; 1/4] START kernel=linear...............................................\n",
      "[CV 4/5; 1/4] END ................kernel=linear;, score=0.452 total time=   1.8s\n",
      "[CV 5/5; 1/4] START kernel=linear...............................................\n",
      "[CV 5/5; 1/4] END ................kernel=linear;, score=0.453 total time=   1.8s\n",
      "[CV 1/5; 2/4] START kernel=poly.................................................\n",
      "[CV 1/5; 2/4] END ..................kernel=poly;, score=0.927 total time=   0.2s\n",
      "[CV 2/5; 2/4] START kernel=poly.................................................\n",
      "[CV 2/5; 2/4] END ..................kernel=poly;, score=0.920 total time=   0.2s\n",
      "[CV 3/5; 2/4] START kernel=poly.................................................\n",
      "[CV 3/5; 2/4] END ..................kernel=poly;, score=0.927 total time=   0.2s\n",
      "[CV 4/5; 2/4] START kernel=poly.................................................\n",
      "[CV 4/5; 2/4] END ..................kernel=poly;, score=0.911 total time=   0.2s\n",
      "[CV 5/5; 2/4] START kernel=poly.................................................\n",
      "[CV 5/5; 2/4] END ..................kernel=poly;, score=0.923 total time=   0.2s\n",
      "[CV 1/5; 3/4] START kernel=rbf..................................................\n",
      "[CV 1/5; 3/4] END ...................kernel=rbf;, score=0.921 total time=   0.3s\n",
      "[CV 2/5; 3/4] START kernel=rbf..................................................\n",
      "[CV 2/5; 3/4] END ...................kernel=rbf;, score=0.926 total time=   0.3s\n",
      "[CV 3/5; 3/4] START kernel=rbf..................................................\n",
      "[CV 3/5; 3/4] END ...................kernel=rbf;, score=0.922 total time=   0.3s\n",
      "[CV 4/5; 3/4] START kernel=rbf..................................................\n",
      "[CV 4/5; 3/4] END ...................kernel=rbf;, score=0.918 total time=   0.3s\n",
      "[CV 5/5; 3/4] START kernel=rbf..................................................\n",
      "[CV 5/5; 3/4] END ...................kernel=rbf;, score=0.923 total time=   0.3s\n",
      "[CV 1/5; 4/4] START kernel=sigmoid..............................................\n",
      "[CV 1/5; 4/4] END ...............kernel=sigmoid;, score=0.019 total time=   3.6s\n",
      "[CV 2/5; 4/4] START kernel=sigmoid..............................................\n",
      "[CV 2/5; 4/4] END ...............kernel=sigmoid;, score=0.026 total time=   3.6s\n",
      "[CV 3/5; 4/4] START kernel=sigmoid..............................................\n",
      "[CV 3/5; 4/4] END ...............kernel=sigmoid;, score=0.027 total time=   4.0s\n",
      "[CV 4/5; 4/4] START kernel=sigmoid..............................................\n",
      "[CV 4/5; 4/4] END ...............kernel=sigmoid;, score=0.027 total time=   3.7s\n",
      "[CV 5/5; 4/4] START kernel=sigmoid..............................................\n",
      "[CV 5/5; 4/4] END ...............kernel=sigmoid;, score=0.029 total time=   3.8s\n",
      "Best Parameters (Grid Search): {'kernel': 'rbf'}\n",
      "Best Score (Grid Search): 0.9218311856744468\n",
      "\n",
      "All Cross-Validated Results:\n",
      "Mean Score: 0.4544, Std Deviation: 0.0033, Parameters: {'kernel': 'linear'}\n",
      "Mean Score: 0.9212, Std Deviation: 0.0060, Parameters: {'kernel': 'poly'}\n",
      "Mean Score: 0.9218, Std Deviation: 0.0027, Parameters: {'kernel': 'rbf'}\n",
      "Mean Score: 0.0256, Std Deviation: 0.0032, Parameters: {'kernel': 'sigmoid'}\n"
     ]
    }
   ],
   "source": [
    "# Create the SVM model\n",
    "svc = SVC(random_state=42, probability=False)\n",
    "# Create the RandomizedSearchCV object\n",
    "grid_search = GridSearchCV(svc, search_space_kernel, cv=5, scoring='accuracy', verbose=10)\n",
    "# Fit the random search to your data\n",
    "grid_search.fit(X_all_1, y_all)\n",
    "# Get the best parameters and the corresponding best score\n",
    "best_params_random = grid_search.best_params_\n",
    "best_score_random = grid_search.best_score_\n",
    "# Print the best results from random search\n",
    "print(\"Best Parameters (Grid Search):\", best_params_random)\n",
    "print(\"Best Score (Grid Search):\", best_score_random)\n",
    "# Access the cv_results_ attribute to get detailed information about cross-validated results\n",
    "cv_results = grid_search.cv_results_\n",
    "# Print all cross-validated results with their respective parameters\n",
    "print(\"\\nAll Cross-Validated Results:\")\n",
    "for mean_score, std_score, params in zip(cv_results['mean_test_score'], cv_results['std_test_score'], cv_results['params']):\n",
    "    print(f\"Mean Score: {mean_score:.4f}, Std Deviation: {std_score:.4f}, Parameters: {params}\")"
   ]
  },
  {
   "cell_type": "markdown",
   "metadata": {},
   "source": [
    "__Sử dụng RandomizedSearchCV__"
   ]
  },
  {
   "cell_type": "code",
   "execution_count": 32,
   "metadata": {},
   "outputs": [
    {
     "name": "stdout",
     "output_type": "stream",
     "text": [
      "Fitting 5 folds for each of 100 candidates, totalling 500 fits\n",
      "[CV 1/5; 1/100] START C=10000.0, degree=1, gamma=10000.0, kernel=poly...........\n"
     ]
    }
   ],
   "source": [
    "# Define the search space\n",
    "search_space = {\n",
    "    'C': loguniform(1e-3, 1e2),\n",
    "    'kernel': ['poly', 'rbf'],\n",
    "    'degree': [2, 3, 4],\n",
    "    'gamma': loguniform(1e-3, 3e3)\n",
    "}\n",
    "# Create the RandomizedSearchCV object\n",
    "random_search = RandomizedSearchCV(svc, verbose=10, param_distributions=svm_all_search_space, n_iter=100, cv=5, random_state=42)\n",
    "# Fit the random search to your data\n",
    "random_search.fit(X_all_1, y_all)\n",
    "# Get the best parameters and the corresponding best score\n",
    "best_params_random = random_search.best_params_\n",
    "best_score_random = random_search.best_score_\n",
    "# Print the best results from random search\n",
    "print(\"Best Parameters (Random Search):\", best_params_random)\n",
    "print(\"Best Score (Random Search):\", best_score_random)"
   ]
  },
  {
   "cell_type": "markdown",
   "metadata": {},
   "source": [
    "## Random forest tunning"
   ]
  },
  {
   "cell_type": "code",
   "execution_count": null,
   "metadata": {},
   "outputs": [],
   "source": []
  },
  {
   "cell_type": "markdown",
   "metadata": {},
   "source": [
    "## XgBoost tunning"
   ]
  },
  {
   "cell_type": "code",
   "execution_count": null,
   "metadata": {},
   "outputs": [],
   "source": []
  }
 ],
 "metadata": {
  "kernelspec": {
   "display_name": "tf-wsl",
   "language": "python",
   "name": "python3"
  },
  "language_info": {
   "codemirror_mode": {
    "name": "ipython",
    "version": 3
   },
   "file_extension": ".py",
   "mimetype": "text/x-python",
   "name": "python",
   "nbconvert_exporter": "python",
   "pygments_lexer": "ipython3",
   "version": "3.11.5"
  }
 },
 "nbformat": 4,
 "nbformat_minor": 2
}
