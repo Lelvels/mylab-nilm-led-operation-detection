{
 "cells": [
  {
   "cell_type": "code",
   "execution_count": 1,
   "metadata": {},
   "outputs": [],
   "source": [
    "import os\n",
    "import pandas as pd\n",
    "import matplotlib.pyplot as plt\n",
    "import numpy as np\n",
    "from dotenv import load_dotenv \n",
    "import glob\n",
    "from sklearn.preprocessing import LabelEncoder"
   ]
  },
  {
   "cell_type": "code",
   "execution_count": 2,
   "metadata": {},
   "outputs": [],
   "source": [
    "load_dotenv(dotenv_path=\"../.env\")\n",
    "FFT_FILE_PATH = os.getenv(\"FFT_DATA_PATH\")\n",
    "train_path = FFT_FILE_PATH + \"/train_dataset\"\n",
    "test_path = FFT_FILE_PATH + \"/test_dataset\"\n",
    "validation_path = FFT_FILE_PATH + \"/validation_dataset\""
   ]
  },
  {
   "cell_type": "code",
   "execution_count": 35,
   "metadata": {},
   "outputs": [],
   "source": [
    "def count_labels_in_directory(dir_path: str):\n",
    "    # Define the prefixes\n",
    "    prefixes = ['error', 'normal', 'zero', 'overcurrent', 'overheating']\n",
    "\n",
    "    # Count files for each prefix\n",
    "    file_counts = {}\n",
    "\n",
    "    for prefix in prefixes:\n",
    "        pattern = f\"{dir_path}/{prefix}_*\"\n",
    "        files = glob.glob(pattern)\n",
    "        file_counts[prefix] = len(files)\n",
    "\n",
    "    # Print the results\n",
    "    for prefix, count in file_counts.items():\n",
    "        print(f\"There are {count} files with the prefix '{prefix}' in the directory.\")\n",
    "        \n",
    "def read_data_from_dir(dir_path):\n",
    "    # Initialize lists to store data\n",
    "    amplitude_data = []\n",
    "    label_data = []\n",
    "    file_name_data = []\n",
    "\n",
    "    # Iterate through each prefix\n",
    "    for prefix in ['error', 'normal', 'zero', 'overcurrent', 'overheating']:\n",
    "        pattern = f\"{dir_path}/{prefix}_*.csv\"\n",
    "        files = glob.glob(pattern)\n",
    "        \n",
    "        # Read Amplitude column from each file\n",
    "        for file in files:\n",
    "            df = pd.read_csv(file)\n",
    "            \n",
    "            # Extract Amplitude column\n",
    "            amplitude = df['Amplitude'].values.tolist()\n",
    "            \n",
    "            # Store data in lists\n",
    "            amplitude_data.append(amplitude)\n",
    "            label_data.append(prefix)\n",
    "            file_name_data.append(os.path.basename(file))\n",
    "\n",
    "    # Convert lists to numpy arrays if needed\n",
    "    amplitude_array = np.array(amplitude_data)\n",
    "    label_array = np.array(label_data)\n",
    "    file_name_array = np.array(file_name_data)\n",
    "\n",
    "    return amplitude_array, label_array, file_name_array\n",
    "\n",
    "def check_data_distribution(array):\n",
    "    unique_labels, label_counts = np.unique(array, return_counts=True)\n",
    "\n",
    "    distribution = dict(zip(unique_labels, label_counts))\n",
    "    return distribution\n",
    "\n",
    "# def plot_freq_spectrum(frequency_data, signal, title_name):\n",
    "#     plt.stem(frequency_data[1:4501], signal[1:4501], 'b', markerfmt=\" \", basefmt=\"-b\")\n",
    "#     plt.title(f\"Frequency spectrum of {title_name}\")\n",
    "#     plt.xlabel('Freq (Hz)')\n",
    "#     plt.ylabel('FFT Amplitude |X(freq)|')\n",
    "#     # Set x-axis ticks at the scale of 10^-5\n",
    "#     ticks = [10**(-5) * i for i in range(10)]\n",
    "#     plt.xticks(ticks)\n",
    "#     plt.show()\n",
    "    \n",
    "def plot_freq_spectrum(frequency_data, signal, title_name):\n",
    "    # Create a figure and axis\n",
    "    ax = plt.subplots()\n",
    "\n",
    "    # Plot stems using the x-values aligned with ticks\n",
    "    ax.stem(frequency_data[1:4501], signal[1:4501], 'b', markerfmt=\" \", basefmt=\"-b\")\n",
    "\n",
    "    # Set x-axis ticks at the scale of 10^-5\n",
    "    ticks = [10**(-5) * i for i in range(10)]\n",
    "    ax.set_xticks(ticks)\n",
    "\n",
    "    # Set labels and title\n",
    "    ax.set_title(f\"Frequency spectrum of {title_name}\")\n",
    "    ax.set_xlabel('Freq (Hz)')\n",
    "    ax.set_ylabel('FFT Amplitude |X(freq)|')\n",
    "\n",
    "    # Show the plot\n",
    "    plt.show()"
   ]
  },
  {
   "cell_type": "code",
   "execution_count": 20,
   "metadata": {},
   "outputs": [
    {
     "name": "stdout",
     "output_type": "stream",
     "text": [
      "Train dataset: X: (8400, 4501), y: (8400,)\n",
      "Test dataset: X: (1800, 4501), y: (1800,)\n",
      "Validation dataset: X: (1800, 4501), y: (1800,)\n"
     ]
    }
   ],
   "source": [
    "X_train, y_train, train_file_names = read_data_from_dir(dir_path=train_path)\n",
    "X_test, y_test, test_file_names = read_data_from_dir(dir_path=test_path)\n",
    "X_validation, y_validation, validation_file_names = read_data_from_dir(dir_path=validation_path)\n",
    "print(f\"Train dataset: X: {X_train.shape}, y: {y_train.shape}\")\n",
    "print(f\"Test dataset: X: {X_test.shape}, y: {y_test.shape}\")\n",
    "print(f\"Validation dataset: X: {X_validation.shape}, y: {y_validation.shape}\")"
   ]
  },
  {
   "cell_type": "code",
   "execution_count": 21,
   "metadata": {},
   "outputs": [],
   "source": [
    "frequency_data = np.array(pd.read_csv(\"../../data/fft_data/train_dataset/error_data10.csv\")['Frequency'].to_list()) "
   ]
  },
  {
   "cell_type": "code",
   "execution_count": 22,
   "metadata": {},
   "outputs": [],
   "source": [
    "X_all = np.concatenate((X_train, X_test, X_validation), axis=0)\n",
    "y_all = np.concatenate((y_train, y_test, y_validation), axis=0)"
   ]
  },
  {
   "cell_type": "code",
   "execution_count": 23,
   "metadata": {},
   "outputs": [
    {
     "name": "stdout",
     "output_type": "stream",
     "text": [
      "(12000, 4501) (12000,)\n"
     ]
    }
   ],
   "source": [
    "print(X_all.shape, y_all.shape)"
   ]
  },
  {
   "cell_type": "code",
   "execution_count": 24,
   "metadata": {},
   "outputs": [],
   "source": [
    "error_data = X_all[np.where(y_all == \"error\")]\n",
    "normal_data = X_all[np.where(y_all == \"normal\")]\n",
    "overcurrent_data = X_all[np.where(y_all == \"overcurrent\")]\n",
    "overheating_data = X_all[np.where(y_all == \"overheating\")]\n",
    "zero_data = X_all[np.where(y_all == \"zero\")]"
   ]
  },
  {
   "cell_type": "code",
   "execution_count": 26,
   "metadata": {},
   "outputs": [],
   "source": [
    "average_error_ampls = np.mean(error_data, axis=0)\n",
    "average_normal_ampls = np.mean(normal_data, axis=0)\n",
    "average_overcurrent_ampls = np.mean(overcurrent_data, axis=0)\n",
    "average_overheating_ampls = np.mean(overheating_data, axis=0)\n",
    "average_zero_ampls = np.mean(zero_data, axis=0)"
   ]
  },
  {
   "cell_type": "code",
   "execution_count": 38,
   "metadata": {},
   "outputs": [],
   "source": [
    "average_error_data_dict = {\n",
    "    \"Frequecy\": frequency_data,\n",
    "    \"Amplitude\": average_error_ampls\n",
    "}\n",
    "average_normal_data_dict = {\n",
    "    \"Frequecy\": frequency_data,\n",
    "    \"Amplitude\": average_normal_ampls\n",
    "}\n",
    "average_overcurrent_data_dict = {\n",
    "    \"Frequecy\": frequency_data,\n",
    "    \"Amplitude\": average_overcurrent_ampls\n",
    "}\n",
    "average_overheating_data_dict = {\n",
    "    \"Frequecy\": frequency_data,\n",
    "    \"Amplitude\": average_overheating_ampls\n",
    "}\n",
    "average_zero_data_dict = {\n",
    "    \"Frequecy\": frequency_data,\n",
    "    \"Amplitude\": average_zero_ampls\n",
    "}\n",
    "\n",
    "# Create DataFrames from the dictionaries\n",
    "df_error = pd.DataFrame(average_error_data_dict)\n",
    "df_normal = pd.DataFrame(average_normal_data_dict)\n",
    "df_overcurrent = pd.DataFrame(average_overcurrent_data_dict)\n",
    "df_overheating = pd.DataFrame(average_overheating_data_dict)\n",
    "df_zero = pd.DataFrame(average_zero_data_dict)\n",
    "\n",
    "# Create a Pandas Excel writer using ExcelWriter\n",
    "with pd.ExcelWriter('output_file.xlsx') as writer:\n",
    "    # Write each DataFrame to a specific sheet\n",
    "    df_error.to_excel(writer, sheet_name='error', index=False)\n",
    "    df_normal.to_excel(writer, sheet_name='normal', index=False)\n",
    "    df_overcurrent.to_excel(writer, sheet_name='overcurrent', index=False)\n",
    "    df_overheating.to_excel(writer, sheet_name='overheating', index=False)\n",
    "    df_zero.to_excel(writer, sheet_name='zero', index=False)"
   ]
  }
 ],
 "metadata": {
  "kernelspec": {
   "display_name": "my-rdkit-env",
   "language": "python",
   "name": "python3"
  },
  "language_info": {
   "codemirror_mode": {
    "name": "ipython",
    "version": 3
   },
   "file_extension": ".py",
   "mimetype": "text/x-python",
   "name": "python",
   "nbconvert_exporter": "python",
   "pygments_lexer": "ipython3",
   "version": "3.11.3"
  }
 },
 "nbformat": 4,
 "nbformat_minor": 2
}
