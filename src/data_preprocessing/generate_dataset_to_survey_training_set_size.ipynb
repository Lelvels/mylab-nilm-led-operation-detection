{
 "cells": [
  {
   "cell_type": "code",
   "execution_count": 13,
   "metadata": {},
   "outputs": [],
   "source": [
    "import os\n",
    "import pandas as pd\n",
    "import matplotlib.pyplot as plt\n",
    "import numpy as np\n",
    "from data_repository import DataRepository\n",
    "from sklearn.model_selection import train_test_split"
   ]
  },
  {
   "cell_type": "markdown",
   "metadata": {},
   "source": [
    "# Import data"
   ]
  },
  {
   "cell_type": "code",
   "execution_count": 2,
   "metadata": {},
   "outputs": [],
   "source": [
    "data_repo = DataRepository(\"../.env\")\n",
    "#Load labels\n",
    "_, clean_y_train, _, clean_y_val, _, clean_y_test = data_repo.load_current_data(clean_data=True)\n",
    "_, unclean_y_train, _, unclean_y_val, _, unclean_y_test = data_repo.load_current_data(clean_data=False)\n",
    "#Load clean and unclean file names\n",
    "clean_train, clean_val, clean_test = data_repo.load_clean_file_names()\n",
    "unclean_train, unclean_val, unclean_test = data_repo.load_unclean_file_names()"
   ]
  },
  {
   "cell_type": "code",
   "execution_count": 4,
   "metadata": {},
   "outputs": [
    {
     "name": "stdout",
     "output_type": "stream",
     "text": [
      "8188 1123 2012\n",
      "8188 1123 2012\n"
     ]
    }
   ],
   "source": [
    "print(len(clean_train), len(clean_val), len(clean_test))\n",
    "print(len(clean_y_train), len(clean_y_val), len(clean_y_test))"
   ]
  },
  {
   "cell_type": "code",
   "execution_count": 9,
   "metadata": {},
   "outputs": [
    {
     "name": "stdout",
     "output_type": "stream",
     "text": [
      "8649 1191 2160\n",
      "8649 1191 2160\n"
     ]
    }
   ],
   "source": [
    "print(len(unclean_train), len(unclean_val), len(unclean_test))\n",
    "print(len(unclean_y_train), len(unclean_y_val), len(unclean_y_test))"
   ]
  },
  {
   "cell_type": "code",
   "execution_count": 11,
   "metadata": {},
   "outputs": [
    {
     "name": "stdout",
     "output_type": "stream",
     "text": [
      "['error_data10.csv', 'error_data100.csv', 'error_data1000.csv', 'error_data1001.csv', 'error_data1002.csv']\n",
      "['error' 'error' 'error' 'error' 'error']\n"
     ]
    }
   ],
   "source": [
    "print(unclean_test[:5])\n",
    "print(unclean_y_test[:5])"
   ]
  },
  {
   "cell_type": "markdown",
   "metadata": {},
   "source": [
    "# Cut-off training dataset"
   ]
  },
  {
   "cell_type": "markdown",
   "metadata": {},
   "source": [
    "## Clean dataset"
   ]
  },
  {
   "cell_type": "code",
   "execution_count": 53,
   "metadata": {},
   "outputs": [],
   "source": [
    "for train_size in [1000, 2000, 4000, 6000, 8000]:\n",
    "    fp_train_dfs = []\n",
    "    for i in range(0, 10):\n",
    "        _, fp_train, _, clean_y = train_test_split(clean_train, clean_y_train, \n",
    "                                                        test_size=train_size/len(clean_train), random_state=i)\n",
    "        train_df = pd.DataFrame({\"files\": fp_train})\n",
    "        fp_train_dfs.append(train_df)\n",
    "    file_name = f\"../../data/survery_data/clean_data/train_files_{train_size}.xlsx\"\n",
    "    with pd.ExcelWriter(file_name) as writer:\n",
    "        i = 0\n",
    "        for fp_train_df in fp_train_dfs:\n",
    "            sheet_name = \"Train_dataset_\"+str(i)\n",
    "            fp_train_df.to_excel(writer, sheet_name=sheet_name,index=False)\n",
    "            i+=1"
   ]
  },
  {
   "cell_type": "markdown",
   "metadata": {},
   "source": [
    "## Unclean dataset"
   ]
  },
  {
   "cell_type": "code",
   "execution_count": 56,
   "metadata": {},
   "outputs": [],
   "source": [
    "for train_size in [1000, 2000, 4000, 6000, 8000]:\n",
    "    fp_train_dfs = []\n",
    "    for i in range(0, 10):\n",
    "        _, fp_train, _, clean_y = train_test_split(unclean_train, unclean_y_train, \n",
    "                                                        test_size=train_size/len(unclean_train), random_state=i)\n",
    "        train_df = pd.DataFrame({\"files\": fp_train})\n",
    "        fp_train_dfs.append(train_df)\n",
    "    file_name = f\"../../data/survery_data/unclean_data/train_files_{train_size}.xlsx\"\n",
    "    with pd.ExcelWriter(file_name) as writer:\n",
    "        i = 0\n",
    "        for fp_train_df in fp_train_dfs:\n",
    "            sheet_name = \"Train_dataset_\"+str(i)\n",
    "            fp_train_df.to_excel(writer, sheet_name=sheet_name,index=False)\n",
    "            i+=1"
   ]
  }
 ],
 "metadata": {
  "kernelspec": {
   "display_name": "my-rdkit-env",
   "language": "python",
   "name": "python3"
  },
  "language_info": {
   "codemirror_mode": {
    "name": "ipython",
    "version": 3
   },
   "file_extension": ".py",
   "mimetype": "text/x-python",
   "name": "python",
   "nbconvert_exporter": "python",
   "pygments_lexer": "ipython3",
   "version": "3.11.3"
  }
 },
 "nbformat": 4,
 "nbformat_minor": 2
}
