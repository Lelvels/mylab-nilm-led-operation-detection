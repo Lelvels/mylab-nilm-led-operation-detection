{
 "cells": [
  {
   "cell_type": "code",
   "execution_count": 1,
   "metadata": {},
   "outputs": [],
   "source": [
    "import os\n",
    "import pandas as pd\n",
    "import numpy as np\n",
    "from dotenv import load_dotenv\n",
    "\n",
    "from sklearn.model_selection import train_test_split\n",
    "from data_repository import DataRepository"
   ]
  },
  {
   "cell_type": "markdown",
   "metadata": {},
   "source": [
    "# Chuẩn bị dữ liệu"
   ]
  },
  {
   "cell_type": "code",
   "execution_count": 2,
   "metadata": {},
   "outputs": [],
   "source": [
    "load_dotenv(\"../.env\")\n",
    "ORIGINAL_CURRENT_DATA_PATH = os.getenv(\"ORIGINAL_CURRENT_DATA_PATH\")"
   ]
  },
  {
   "cell_type": "code",
   "execution_count": 3,
   "metadata": {},
   "outputs": [],
   "source": [
    "data_repo = DataRepository(\"../.env\")"
   ]
  },
  {
   "cell_type": "code",
   "execution_count": 4,
   "metadata": {},
   "outputs": [],
   "source": [
    "labels, data_names = [], []\n",
    "for filename in os.listdir(ORIGINAL_CURRENT_DATA_PATH):\n",
    "    data_arr = os.path.basename(filename).split('_')\n",
    "    labels.append(data_arr[0])\n",
    "    data_names.append(os.path.basename(filename))"
   ]
  },
  {
   "cell_type": "code",
   "execution_count": 5,
   "metadata": {},
   "outputs": [
    {
     "name": "stdout",
     "output_type": "stream",
     "text": [
      "12000 12000\n"
     ]
    }
   ],
   "source": [
    "print(len(data_names), len(labels))"
   ]
  },
  {
   "cell_type": "code",
   "execution_count": 19,
   "metadata": {},
   "outputs": [],
   "source": [
    "def count_labels(labels):\n",
    "    unique_labels, counts = np.unique(labels, return_counts=True)\n",
    "    label_counts = dict(zip(unique_labels, counts))\n",
    "    return label_counts\n",
    "\n",
    "def count_csv_files_in_folder(folder_path):\n",
    "    try:\n",
    "        # List all files in the folder\n",
    "        files = os.listdir(folder_path)\n",
    "\n",
    "        # Count the number of CSV files\n",
    "        num_csv_files = sum(1 for file in files if file.endswith('.csv'))\n",
    "\n",
    "        print(f\"The number of CSV files in {folder_path} is: {num_csv_files}\")\n",
    "\n",
    "        return num_csv_files\n",
    "    except FileNotFoundError:\n",
    "        print(f\"The folder '{folder_path}' does not exist.\")"
   ]
  },
  {
   "cell_type": "code",
   "execution_count": 12,
   "metadata": {},
   "outputs": [
    {
     "name": "stdout",
     "output_type": "stream",
     "text": [
      "The number of CSV files in /home/mrcong/Code/nilm_as/data/original_current_data is: 12000\n"
     ]
    },
    {
     "data": {
      "text/plain": [
       "12000"
      ]
     },
     "execution_count": 12,
     "metadata": {},
     "output_type": "execute_result"
    }
   ],
   "source": [
    "count_csv_files_in_folder(ORIGINAL_CURRENT_DATA_PATH)"
   ]
  },
  {
   "cell_type": "code",
   "execution_count": 32,
   "metadata": {},
   "outputs": [],
   "source": [
    "# Current data\n",
    "# X_train, X_temp, y_train, y_temp = train_test_split(data_names, labels, test_size=0.3, random_state=42)\n",
    "# X_val, X_test, y_val, y_test = train_test_split(X_temp, y_temp, test_size=0.5, random_state=42)\n",
    "\n",
    "#REV-CIT data\n",
    "X_train_val, X_test, y_train_val, y_test = train_test_split(data_names, labels, test_size=0.18, random_state=42)\n",
    "X_train, X_val, y_train, y_val = train_test_split(X_train_val, y_train_val, test_size=0.121, random_state=42)"
   ]
  },
  {
   "cell_type": "code",
   "execution_count": 33,
   "metadata": {},
   "outputs": [
    {
     "name": "stdout",
     "output_type": "stream",
     "text": [
      "8649\n"
     ]
    },
    {
     "data": {
      "text/plain": [
       "{'error': 1723,\n",
       " 'normal': 1724,\n",
       " 'overcurrent': 1761,\n",
       " 'overheating': 1720,\n",
       " 'zero': 1721}"
      ]
     },
     "execution_count": 33,
     "metadata": {},
     "output_type": "execute_result"
    }
   ],
   "source": [
    "print(len(y_train))\n",
    "count_labels(y_train)"
   ]
  },
  {
   "cell_type": "code",
   "execution_count": 34,
   "metadata": {},
   "outputs": [
    {
     "name": "stdout",
     "output_type": "stream",
     "text": [
      "1191\n"
     ]
    },
    {
     "data": {
      "text/plain": [
       "{'error': 425,\n",
       " 'normal': 431,\n",
       " 'overcurrent': 407,\n",
       " 'overheating': 455,\n",
       " 'zero': 442}"
      ]
     },
     "execution_count": 34,
     "metadata": {},
     "output_type": "execute_result"
    }
   ],
   "source": [
    "print(len(y_val))\n",
    "count_labels(y_test)"
   ]
  },
  {
   "cell_type": "code",
   "execution_count": 35,
   "metadata": {},
   "outputs": [
    {
     "name": "stdout",
     "output_type": "stream",
     "text": [
      "2160\n"
     ]
    },
    {
     "data": {
      "text/plain": [
       "{'error': 252,\n",
       " 'normal': 245,\n",
       " 'overcurrent': 232,\n",
       " 'overheating': 225,\n",
       " 'zero': 237}"
      ]
     },
     "execution_count": 35,
     "metadata": {},
     "output_type": "execute_result"
    }
   ],
   "source": [
    "print(len(y_test))\n",
    "count_labels(y_val)"
   ]
  },
  {
   "cell_type": "code",
   "execution_count": 36,
   "metadata": {},
   "outputs": [
    {
     "name": "stdout",
     "output_type": "stream",
     "text": [
      "8649, 1191, 2160\n"
     ]
    }
   ],
   "source": [
    "print(f\"{len(X_train)}, {len(X_val)}, {len(X_test)}\")"
   ]
  },
  {
   "cell_type": "code",
   "execution_count": 37,
   "metadata": {},
   "outputs": [],
   "source": [
    "unclean_train_df = pd.DataFrame({\"files\": X_train})\n",
    "unclean_val_df = pd.DataFrame({\"files\": X_val})\n",
    "unclean_test_df = pd.DataFrame({\"files\": X_test})\n",
    "\n",
    "# create a excel writer object\n",
    "with pd.ExcelWriter(\"../../data/unclean_data/rev_unclean_data_again.xlsx\") as writer:\n",
    "    # use to_excel function and specify the sheet_name and index \n",
    "    # to store the dataframe in specified sheet\n",
    "    unclean_train_df.to_excel(writer, sheet_name=\"Train dataset\", index=False)\n",
    "    unclean_val_df.to_excel(writer, sheet_name=\"Validation dataset\", index=False)\n",
    "    unclean_test_df.to_excel(writer, sheet_name=\"Test dataset\", index=False)"
   ]
  }
 ],
 "metadata": {
  "kernelspec": {
   "display_name": "my-rdkit-env",
   "language": "python",
   "name": "python3"
  },
  "language_info": {
   "codemirror_mode": {
    "name": "ipython",
    "version": 3
   },
   "file_extension": ".py",
   "mimetype": "text/x-python",
   "name": "python",
   "nbconvert_exporter": "python",
   "pygments_lexer": "ipython3",
   "version": "3.11.3"
  }
 },
 "nbformat": 4,
 "nbformat_minor": 2
}
