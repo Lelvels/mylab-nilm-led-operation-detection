{
 "cells": [
  {
   "cell_type": "code",
   "execution_count": 1,
   "metadata": {},
   "outputs": [],
   "source": [
    "import os\n",
    "import pandas as pd\n",
    "import matplotlib.pyplot as plt\n",
    "import numpy as np\n",
    "import seaborn as sns\n",
    "import time as time\n",
    "\n",
    "from sklearn.preprocessing import LabelEncoder\n",
    "from sklearn.metrics import accuracy_score\n",
    "from data_repository import DataRepository\n",
    "from model_training_ultils import ModelEvaluationUltis\n",
    "from sklearn.ensemble import RandomForestClassifier"
   ]
  },
  {
   "cell_type": "markdown",
   "metadata": {},
   "source": [
    "# Import data"
   ]
  },
  {
   "cell_type": "markdown",
   "metadata": {},
   "source": [
    "## Import test data"
   ]
  },
  {
   "cell_type": "code",
   "execution_count": 2,
   "metadata": {},
   "outputs": [],
   "source": [
    "evaludation_tool = ModelEvaluationUltis()\n",
    "data_repo = DataRepository(\"../.env\")"
   ]
  },
  {
   "cell_type": "code",
   "execution_count": 3,
   "metadata": {},
   "outputs": [],
   "source": [
    "X_train_clean, y_train_clean, _, _, X_test_clean, y_test_clean = data_repo.load_current_data(clean_data=True)\n",
    "X_train_unclean, y_train_unclean, _, _, X_test_unclean, y_test_unclean = data_repo.load_current_data(clean_data=False)"
   ]
  },
  {
   "cell_type": "code",
   "execution_count": 4,
   "metadata": {},
   "outputs": [
    {
     "name": "stdout",
     "output_type": "stream",
     "text": [
      "Train dataset: X: (8188, 9000), y: (8188,)\n",
      "Train dataset X: (8649, 9000), y(8649,)\n",
      "Test dataset X: (2012, 9000), y(2012,)\n",
      "Test dataset X: (2160, 9000), y(2160,)\n"
     ]
    }
   ],
   "source": [
    "print(f\"Train dataset: X: {X_train_clean.shape}, y: {y_train_clean.shape}\")\n",
    "print(f\"Train dataset X: {X_train_unclean.shape}, y{y_train_unclean.shape}\")\n",
    "print(f\"Test dataset X: {X_test_clean.shape}, y{y_test_clean.shape}\")\n",
    "print(f\"Test dataset X: {X_test_unclean.shape}, y{y_test_unclean.shape}\")"
   ]
  },
  {
   "cell_type": "markdown",
   "metadata": {},
   "source": [
    "__Label encoder__"
   ]
  },
  {
   "cell_type": "code",
   "execution_count": 5,
   "metadata": {},
   "outputs": [],
   "source": [
    "label_encoder = LabelEncoder()\n",
    "y_test_clean = label_encoder.fit_transform(y_test_clean)\n",
    "y_test_unclean = label_encoder.transform(y_test_unclean)\n",
    "y_train_clean = label_encoder.transform(y_train_clean)\n",
    "y_train_unclean = label_encoder.transform(y_train_unclean)"
   ]
  },
  {
   "cell_type": "code",
   "execution_count": 6,
   "metadata": {},
   "outputs": [
    {
     "name": "stdout",
     "output_type": "stream",
     "text": [
      "['error', 'normal', 'overcurrent', 'overheating', 'zero']\n",
      "[0 1 2 3 4]\n"
     ]
    }
   ],
   "source": [
    "print(list(label_encoder.classes_))\n",
    "print(label_encoder.transform(list(label_encoder.classes_)))"
   ]
  },
  {
   "cell_type": "code",
   "execution_count": 7,
   "metadata": {},
   "outputs": [
    {
     "name": "stdout",
     "output_type": "stream",
     "text": [
      "{0: 445, 1: 419, 2: 454, 3: 411, 4: 431}\n",
      "{0: 414, 1: 394, 2: 421, 3: 374, 4: 409}\n",
      "{0: 1622, 1: 1612, 2: 1653, 3: 1688, 4: 1613}\n",
      "{0: 1718, 1: 1734, 2: 1709, 3: 1766, 4: 1722}\n"
     ]
    }
   ],
   "source": [
    "print(data_repo.count_labels(y_test_unclean))\n",
    "print(data_repo.count_labels(y_test_clean))\n",
    "print(data_repo.count_labels(y_train_clean))\n",
    "print(data_repo.count_labels(y_train_unclean))"
   ]
  },
  {
   "cell_type": "code",
   "execution_count": 8,
   "metadata": {},
   "outputs": [],
   "source": [
    "def get_accuracy_with_training_set(file_name, X_test, y_test):\n",
    "    print(\"[+] Working with file: \"+file_name)\n",
    "    accuracy_arr = []\n",
    "    X_trains, y_trains = data_repo.read_train_current_survey_data(file_name)\n",
    "    for i in range(X_trains.shape[0]):\n",
    "        X_train = X_trains[i]\n",
    "        y_train = label_encoder.transform(y_trains[i])\n",
    "        rf_current = RandomForestClassifier(n_estimators=100, criterion='entropy', random_state=42)\n",
    "        rf_current.fit(X_train, y_train)\n",
    "        y_pred = rf_current.predict(X_test)\n",
    "        accuracy_arr.append(accuracy_score(y_pred=y_pred, y_true=y_test))\n",
    "    return np.array(accuracy_arr)"
   ]
  },
  {
   "cell_type": "code",
   "execution_count": 9,
   "metadata": {},
   "outputs": [],
   "source": [
    "def get_accuracy_with_test_set(file_name, X_train, y_train):\n",
    "    print(\"[+] Working with file: \"+file_name)\n",
    "    accuracy_arr = []\n",
    "    X_tests, y_tests = data_repo.read_test_current_survey_data(file_name)\n",
    "    for i in range(X_tests.shape[0]):\n",
    "        X_test = X_tests[i]\n",
    "        y_test = label_encoder.transform(y_tests[i])\n",
    "        rf_current = RandomForestClassifier(n_estimators=100, criterion='entropy', random_state=42)\n",
    "        rf_current.fit(X_train, y_train)\n",
    "        y_pred = rf_current.predict(X_test)\n",
    "        accuracy_arr.append(accuracy_score(y_pred=y_pred, y_true=y_test))\n",
    "    return np.array(accuracy_arr)"
   ]
  },
  {
   "cell_type": "markdown",
   "metadata": {},
   "source": [
    "# Khảo sát biên"
   ]
  },
  {
   "cell_type": "code",
   "execution_count": 30,
   "metadata": {},
   "outputs": [
    {
     "data": {
      "text/html": [
       "<style>#sk-container-id-5 {color: black;background-color: white;}#sk-container-id-5 pre{padding: 0;}#sk-container-id-5 div.sk-toggleable {background-color: white;}#sk-container-id-5 label.sk-toggleable__label {cursor: pointer;display: block;width: 100%;margin-bottom: 0;padding: 0.3em;box-sizing: border-box;text-align: center;}#sk-container-id-5 label.sk-toggleable__label-arrow:before {content: \"▸\";float: left;margin-right: 0.25em;color: #696969;}#sk-container-id-5 label.sk-toggleable__label-arrow:hover:before {color: black;}#sk-container-id-5 div.sk-estimator:hover label.sk-toggleable__label-arrow:before {color: black;}#sk-container-id-5 div.sk-toggleable__content {max-height: 0;max-width: 0;overflow: hidden;text-align: left;background-color: #f0f8ff;}#sk-container-id-5 div.sk-toggleable__content pre {margin: 0.2em;color: black;border-radius: 0.25em;background-color: #f0f8ff;}#sk-container-id-5 input.sk-toggleable__control:checked~div.sk-toggleable__content {max-height: 200px;max-width: 100%;overflow: auto;}#sk-container-id-5 input.sk-toggleable__control:checked~label.sk-toggleable__label-arrow:before {content: \"▾\";}#sk-container-id-5 div.sk-estimator input.sk-toggleable__control:checked~label.sk-toggleable__label {background-color: #d4ebff;}#sk-container-id-5 div.sk-label input.sk-toggleable__control:checked~label.sk-toggleable__label {background-color: #d4ebff;}#sk-container-id-5 input.sk-hidden--visually {border: 0;clip: rect(1px 1px 1px 1px);clip: rect(1px, 1px, 1px, 1px);height: 1px;margin: -1px;overflow: hidden;padding: 0;position: absolute;width: 1px;}#sk-container-id-5 div.sk-estimator {font-family: monospace;background-color: #f0f8ff;border: 1px dotted black;border-radius: 0.25em;box-sizing: border-box;margin-bottom: 0.5em;}#sk-container-id-5 div.sk-estimator:hover {background-color: #d4ebff;}#sk-container-id-5 div.sk-parallel-item::after {content: \"\";width: 100%;border-bottom: 1px solid gray;flex-grow: 1;}#sk-container-id-5 div.sk-label:hover label.sk-toggleable__label {background-color: #d4ebff;}#sk-container-id-5 div.sk-serial::before {content: \"\";position: absolute;border-left: 1px solid gray;box-sizing: border-box;top: 0;bottom: 0;left: 50%;z-index: 0;}#sk-container-id-5 div.sk-serial {display: flex;flex-direction: column;align-items: center;background-color: white;padding-right: 0.2em;padding-left: 0.2em;position: relative;}#sk-container-id-5 div.sk-item {position: relative;z-index: 1;}#sk-container-id-5 div.sk-parallel {display: flex;align-items: stretch;justify-content: center;background-color: white;position: relative;}#sk-container-id-5 div.sk-item::before, #sk-container-id-5 div.sk-parallel-item::before {content: \"\";position: absolute;border-left: 1px solid gray;box-sizing: border-box;top: 0;bottom: 0;left: 50%;z-index: -1;}#sk-container-id-5 div.sk-parallel-item {display: flex;flex-direction: column;z-index: 1;position: relative;background-color: white;}#sk-container-id-5 div.sk-parallel-item:first-child::after {align-self: flex-end;width: 50%;}#sk-container-id-5 div.sk-parallel-item:last-child::after {align-self: flex-start;width: 50%;}#sk-container-id-5 div.sk-parallel-item:only-child::after {width: 0;}#sk-container-id-5 div.sk-dashed-wrapped {border: 1px dashed gray;margin: 0 0.4em 0.5em 0.4em;box-sizing: border-box;padding-bottom: 0.4em;background-color: white;}#sk-container-id-5 div.sk-label label {font-family: monospace;font-weight: bold;display: inline-block;line-height: 1.2em;}#sk-container-id-5 div.sk-label-container {text-align: center;}#sk-container-id-5 div.sk-container {/* jupyter's `normalize.less` sets `[hidden] { display: none; }` but bootstrap.min.css set `[hidden] { display: none !important; }` so we also need the `!important` here to be able to override the default hidden behavior on the sphinx rendered scikit-learn.org. See: https://github.com/scikit-learn/scikit-learn/issues/21755 */display: inline-block !important;position: relative;}#sk-container-id-5 div.sk-text-repr-fallback {display: none;}</style><div id=\"sk-container-id-5\" class=\"sk-top-container\"><div class=\"sk-text-repr-fallback\"><pre>RandomForestClassifier(criterion=&#x27;entropy&#x27;, random_state=42)</pre><b>In a Jupyter environment, please rerun this cell to show the HTML representation or trust the notebook. <br />On GitHub, the HTML representation is unable to render, please try loading this page with nbviewer.org.</b></div><div class=\"sk-container\" hidden><div class=\"sk-item\"><div class=\"sk-estimator sk-toggleable\"><input class=\"sk-toggleable__control sk-hidden--visually\" id=\"sk-estimator-id-5\" type=\"checkbox\" checked><label for=\"sk-estimator-id-5\" class=\"sk-toggleable__label sk-toggleable__label-arrow\">RandomForestClassifier</label><div class=\"sk-toggleable__content\"><pre>RandomForestClassifier(criterion=&#x27;entropy&#x27;, random_state=42)</pre></div></div></div></div></div>"
      ],
      "text/plain": [
       "RandomForestClassifier(criterion='entropy', random_state=42)"
      ]
     },
     "execution_count": 30,
     "metadata": {},
     "output_type": "execute_result"
    }
   ],
   "source": [
    "unclean_rf_current = RandomForestClassifier(n_estimators=100, criterion='entropy', random_state=42)\n",
    "unclean_rf_current.fit(X_train_unclean, y_train_unclean)"
   ]
  },
  {
   "cell_type": "code",
   "execution_count": 31,
   "metadata": {},
   "outputs": [
    {
     "data": {
      "text/html": [
       "<style>#sk-container-id-6 {color: black;background-color: white;}#sk-container-id-6 pre{padding: 0;}#sk-container-id-6 div.sk-toggleable {background-color: white;}#sk-container-id-6 label.sk-toggleable__label {cursor: pointer;display: block;width: 100%;margin-bottom: 0;padding: 0.3em;box-sizing: border-box;text-align: center;}#sk-container-id-6 label.sk-toggleable__label-arrow:before {content: \"▸\";float: left;margin-right: 0.25em;color: #696969;}#sk-container-id-6 label.sk-toggleable__label-arrow:hover:before {color: black;}#sk-container-id-6 div.sk-estimator:hover label.sk-toggleable__label-arrow:before {color: black;}#sk-container-id-6 div.sk-toggleable__content {max-height: 0;max-width: 0;overflow: hidden;text-align: left;background-color: #f0f8ff;}#sk-container-id-6 div.sk-toggleable__content pre {margin: 0.2em;color: black;border-radius: 0.25em;background-color: #f0f8ff;}#sk-container-id-6 input.sk-toggleable__control:checked~div.sk-toggleable__content {max-height: 200px;max-width: 100%;overflow: auto;}#sk-container-id-6 input.sk-toggleable__control:checked~label.sk-toggleable__label-arrow:before {content: \"▾\";}#sk-container-id-6 div.sk-estimator input.sk-toggleable__control:checked~label.sk-toggleable__label {background-color: #d4ebff;}#sk-container-id-6 div.sk-label input.sk-toggleable__control:checked~label.sk-toggleable__label {background-color: #d4ebff;}#sk-container-id-6 input.sk-hidden--visually {border: 0;clip: rect(1px 1px 1px 1px);clip: rect(1px, 1px, 1px, 1px);height: 1px;margin: -1px;overflow: hidden;padding: 0;position: absolute;width: 1px;}#sk-container-id-6 div.sk-estimator {font-family: monospace;background-color: #f0f8ff;border: 1px dotted black;border-radius: 0.25em;box-sizing: border-box;margin-bottom: 0.5em;}#sk-container-id-6 div.sk-estimator:hover {background-color: #d4ebff;}#sk-container-id-6 div.sk-parallel-item::after {content: \"\";width: 100%;border-bottom: 1px solid gray;flex-grow: 1;}#sk-container-id-6 div.sk-label:hover label.sk-toggleable__label {background-color: #d4ebff;}#sk-container-id-6 div.sk-serial::before {content: \"\";position: absolute;border-left: 1px solid gray;box-sizing: border-box;top: 0;bottom: 0;left: 50%;z-index: 0;}#sk-container-id-6 div.sk-serial {display: flex;flex-direction: column;align-items: center;background-color: white;padding-right: 0.2em;padding-left: 0.2em;position: relative;}#sk-container-id-6 div.sk-item {position: relative;z-index: 1;}#sk-container-id-6 div.sk-parallel {display: flex;align-items: stretch;justify-content: center;background-color: white;position: relative;}#sk-container-id-6 div.sk-item::before, #sk-container-id-6 div.sk-parallel-item::before {content: \"\";position: absolute;border-left: 1px solid gray;box-sizing: border-box;top: 0;bottom: 0;left: 50%;z-index: -1;}#sk-container-id-6 div.sk-parallel-item {display: flex;flex-direction: column;z-index: 1;position: relative;background-color: white;}#sk-container-id-6 div.sk-parallel-item:first-child::after {align-self: flex-end;width: 50%;}#sk-container-id-6 div.sk-parallel-item:last-child::after {align-self: flex-start;width: 50%;}#sk-container-id-6 div.sk-parallel-item:only-child::after {width: 0;}#sk-container-id-6 div.sk-dashed-wrapped {border: 1px dashed gray;margin: 0 0.4em 0.5em 0.4em;box-sizing: border-box;padding-bottom: 0.4em;background-color: white;}#sk-container-id-6 div.sk-label label {font-family: monospace;font-weight: bold;display: inline-block;line-height: 1.2em;}#sk-container-id-6 div.sk-label-container {text-align: center;}#sk-container-id-6 div.sk-container {/* jupyter's `normalize.less` sets `[hidden] { display: none; }` but bootstrap.min.css set `[hidden] { display: none !important; }` so we also need the `!important` here to be able to override the default hidden behavior on the sphinx rendered scikit-learn.org. See: https://github.com/scikit-learn/scikit-learn/issues/21755 */display: inline-block !important;position: relative;}#sk-container-id-6 div.sk-text-repr-fallback {display: none;}</style><div id=\"sk-container-id-6\" class=\"sk-top-container\"><div class=\"sk-text-repr-fallback\"><pre>RandomForestClassifier(criterion=&#x27;entropy&#x27;, random_state=42)</pre><b>In a Jupyter environment, please rerun this cell to show the HTML representation or trust the notebook. <br />On GitHub, the HTML representation is unable to render, please try loading this page with nbviewer.org.</b></div><div class=\"sk-container\" hidden><div class=\"sk-item\"><div class=\"sk-estimator sk-toggleable\"><input class=\"sk-toggleable__control sk-hidden--visually\" id=\"sk-estimator-id-6\" type=\"checkbox\" checked><label for=\"sk-estimator-id-6\" class=\"sk-toggleable__label sk-toggleable__label-arrow\">RandomForestClassifier</label><div class=\"sk-toggleable__content\"><pre>RandomForestClassifier(criterion=&#x27;entropy&#x27;, random_state=42)</pre></div></div></div></div></div>"
      ],
      "text/plain": [
       "RandomForestClassifier(criterion='entropy', random_state=42)"
      ]
     },
     "execution_count": 31,
     "metadata": {},
     "output_type": "execute_result"
    }
   ],
   "source": [
    "clean_rf_current = RandomForestClassifier(n_estimators=100, criterion='entropy', random_state=42)\n",
    "clean_rf_current.fit(X_train_clean, y_train_clean)"
   ]
  },
  {
   "cell_type": "code",
   "execution_count": 33,
   "metadata": {},
   "outputs": [
    {
     "data": {
      "text/plain": [
       "0.9811133200795229"
      ]
     },
     "execution_count": 33,
     "metadata": {},
     "output_type": "execute_result"
    }
   ],
   "source": [
    "#Clean train - Clean test\n",
    "accuracy_score(y_pred=clean_rf_current.predict(X_test_clean), y_true=y_test_clean)"
   ]
  },
  {
   "cell_type": "code",
   "execution_count": 25,
   "metadata": {},
   "outputs": [
    {
     "data": {
      "text/plain": [
       "0.9550925925925926"
      ]
     },
     "execution_count": 25,
     "metadata": {},
     "output_type": "execute_result"
    }
   ],
   "source": [
    "#Clean train - Unclean test\n",
    "accuracy_score(y_pred=clean_rf_current.predict(X_test_unclean), y_true=y_test_unclean)"
   ]
  },
  {
   "cell_type": "code",
   "execution_count": 26,
   "metadata": {},
   "outputs": [
    {
     "data": {
      "text/plain": [
       "0.9564814814814815"
      ]
     },
     "execution_count": 26,
     "metadata": {},
     "output_type": "execute_result"
    }
   ],
   "source": [
    "#Unclean train - Unclean test\n",
    "accuracy_score(y_pred=unclean_rf_current.predict(X_test_unclean), y_true=y_test_unclean)"
   ]
  },
  {
   "cell_type": "code",
   "execution_count": 24,
   "metadata": {},
   "outputs": [
    {
     "data": {
      "text/plain": [
       "0.9786282306163022"
      ]
     },
     "execution_count": 24,
     "metadata": {},
     "output_type": "execute_result"
    }
   ],
   "source": [
    "#Unclean train - clean test\n",
    "accuracy_score(y_pred=unclean_rf_current.predict(X_test_clean), y_true=y_test_clean)"
   ]
  },
  {
   "cell_type": "markdown",
   "metadata": {},
   "source": [
    "# Surveying with training dataset"
   ]
  },
  {
   "cell_type": "markdown",
   "metadata": {},
   "source": [
    "## With CL"
   ]
  },
  {
   "cell_type": "code",
   "execution_count": 28,
   "metadata": {},
   "outputs": [
    {
     "name": "stdout",
     "output_type": "stream",
     "text": [
      "[+] Working with i = 0.1\n",
      "[+] Working with file: /home/mrcong/Code/nilm_as/data/cl_survey_data/train_dataset/cl_train_files_0.1_dirty_removed.xlsx\n",
      "[+] Working with i = 0.2\n",
      "[+] Working with file: /home/mrcong/Code/nilm_as/data/cl_survey_data/train_dataset/cl_train_files_0.2_dirty_removed.xlsx\n",
      "[+] Working with i = 0.4\n",
      "[+] Working with file: /home/mrcong/Code/nilm_as/data/cl_survey_data/train_dataset/cl_train_files_0.4_dirty_removed.xlsx\n",
      "[+] Working with i = 0.6\n",
      "[+] Working with file: /home/mrcong/Code/nilm_as/data/cl_survey_data/train_dataset/cl_train_files_0.6_dirty_removed.xlsx\n",
      "[+] Working with i = 0.8\n",
      "[+] Working with file: /home/mrcong/Code/nilm_as/data/cl_survey_data/train_dataset/cl_train_files_0.8_dirty_removed.xlsx\n"
     ]
    }
   ],
   "source": [
    "clean_accuracy_scores = []\n",
    "for i in [0.1, 0.2, 0.4, 0.6, 0.8]:\n",
    "    print(f\"[+] Working with i = {i}\")\n",
    "    file_name =f\"/home/mrcong/Code/nilm_as/data/cl_survey_data/train_dataset/cl_train_files_{i}_dirty_removed.xlsx\"\n",
    "    clean_accuracy_scores.append(get_accuracy_with_training_set(file_name=file_name, X_test=X_test_clean, y_test=y_test_clean))\n",
    "clean_accuracy_scores = np.array(clean_accuracy_scores)"
   ]
  },
  {
   "cell_type": "markdown",
   "metadata": {},
   "source": [
    "## Without CL"
   ]
  },
  {
   "cell_type": "code",
   "execution_count": 33,
   "metadata": {},
   "outputs": [
    {
     "name": "stdout",
     "output_type": "stream",
     "text": [
      "[+] Working with i = 0.1\n",
      "[+] Working with file: /home/mrcong/Code/nilm_as/data/cl_survey_data/train_dataset/cl_train_files_0.1_dirty_removed.xlsx\n",
      "[+] Working with i = 0.2\n",
      "[+] Working with file: /home/mrcong/Code/nilm_as/data/cl_survey_data/train_dataset/cl_train_files_0.2_dirty_removed.xlsx\n",
      "[+] Working with i = 0.4\n",
      "[+] Working with file: /home/mrcong/Code/nilm_as/data/cl_survey_data/train_dataset/cl_train_files_0.4_dirty_removed.xlsx\n",
      "[+] Working with i = 0.6\n",
      "[+] Working with file: /home/mrcong/Code/nilm_as/data/cl_survey_data/train_dataset/cl_train_files_0.6_dirty_removed.xlsx\n",
      "[+] Working with i = 0.8\n",
      "[+] Working with file: /home/mrcong/Code/nilm_as/data/cl_survey_data/train_dataset/cl_train_files_0.8_dirty_removed.xlsx\n"
     ]
    }
   ],
   "source": [
    "unclean_accuracy_scores = []\n",
    "for i in [0.1, 0.2, 0.4, 0.6, 0.8]:\n",
    "    print(f\"[+] Working with i = {i}\")\n",
    "    file_name =f\"/home/mrcong/Code/nilm_as/data/cl_survey_data/train_dataset/cl_train_files_{i}_dirty_removed.xlsx\"\n",
    "    unclean_accuracy_scores.append(get_accuracy_with_training_set(file_name=file_name, X_test=X_test_unclean, y_test=y_test_unclean))\n",
    "unclean_accuracy_scores = np.array(unclean_accuracy_scores)"
   ]
  },
  {
   "cell_type": "markdown",
   "metadata": {},
   "source": [
    "## Write to files"
   ]
  },
  {
   "cell_type": "code",
   "execution_count": 31,
   "metadata": {},
   "outputs": [
    {
     "data": {
      "text/html": [
       "<div>\n",
       "<style scoped>\n",
       "    .dataframe tbody tr th:only-of-type {\n",
       "        vertical-align: middle;\n",
       "    }\n",
       "\n",
       "    .dataframe tbody tr th {\n",
       "        vertical-align: top;\n",
       "    }\n",
       "\n",
       "    .dataframe thead th {\n",
       "        text-align: right;\n",
       "    }\n",
       "</style>\n",
       "<table border=\"1\" class=\"dataframe\">\n",
       "  <thead>\n",
       "    <tr style=\"text-align: right;\">\n",
       "      <th></th>\n",
       "      <th>0</th>\n",
       "      <th>1</th>\n",
       "      <th>2</th>\n",
       "      <th>3</th>\n",
       "      <th>4</th>\n",
       "      <th>5</th>\n",
       "      <th>6</th>\n",
       "      <th>7</th>\n",
       "      <th>8</th>\n",
       "      <th>9</th>\n",
       "    </tr>\n",
       "  </thead>\n",
       "  <tbody>\n",
       "    <tr>\n",
       "      <th>0</th>\n",
       "      <td>0.977137</td>\n",
       "      <td>0.977634</td>\n",
       "      <td>0.978628</td>\n",
       "      <td>0.981113</td>\n",
       "      <td>0.980616</td>\n",
       "      <td>0.980119</td>\n",
       "      <td>0.978628</td>\n",
       "      <td>0.979622</td>\n",
       "      <td>0.977634</td>\n",
       "      <td>0.980616</td>\n",
       "    </tr>\n",
       "    <tr>\n",
       "      <th>1</th>\n",
       "      <td>0.980119</td>\n",
       "      <td>0.979125</td>\n",
       "      <td>0.977137</td>\n",
       "      <td>0.980616</td>\n",
       "      <td>0.981610</td>\n",
       "      <td>0.977137</td>\n",
       "      <td>0.978628</td>\n",
       "      <td>0.978131</td>\n",
       "      <td>0.980616</td>\n",
       "      <td>0.980119</td>\n",
       "    </tr>\n",
       "    <tr>\n",
       "      <th>2</th>\n",
       "      <td>0.981113</td>\n",
       "      <td>0.976640</td>\n",
       "      <td>0.976640</td>\n",
       "      <td>0.981113</td>\n",
       "      <td>0.978628</td>\n",
       "      <td>0.978131</td>\n",
       "      <td>0.980119</td>\n",
       "      <td>0.979622</td>\n",
       "      <td>0.977634</td>\n",
       "      <td>0.983101</td>\n",
       "    </tr>\n",
       "    <tr>\n",
       "      <th>3</th>\n",
       "      <td>0.980616</td>\n",
       "      <td>0.980616</td>\n",
       "      <td>0.981113</td>\n",
       "      <td>0.978628</td>\n",
       "      <td>0.980119</td>\n",
       "      <td>0.980616</td>\n",
       "      <td>0.981113</td>\n",
       "      <td>0.979125</td>\n",
       "      <td>0.983101</td>\n",
       "      <td>0.978628</td>\n",
       "    </tr>\n",
       "    <tr>\n",
       "      <th>4</th>\n",
       "      <td>0.980119</td>\n",
       "      <td>0.979622</td>\n",
       "      <td>0.979622</td>\n",
       "      <td>0.980616</td>\n",
       "      <td>0.980616</td>\n",
       "      <td>0.977634</td>\n",
       "      <td>0.981610</td>\n",
       "      <td>0.980616</td>\n",
       "      <td>0.981610</td>\n",
       "      <td>0.980119</td>\n",
       "    </tr>\n",
       "  </tbody>\n",
       "</table>\n",
       "</div>"
      ],
      "text/plain": [
       "          0         1         2         3         4         5         6  \\\n",
       "0  0.977137  0.977634  0.978628  0.981113  0.980616  0.980119  0.978628   \n",
       "1  0.980119  0.979125  0.977137  0.980616  0.981610  0.977137  0.978628   \n",
       "2  0.981113  0.976640  0.976640  0.981113  0.978628  0.978131  0.980119   \n",
       "3  0.980616  0.980616  0.981113  0.978628  0.980119  0.980616  0.981113   \n",
       "4  0.980119  0.979622  0.979622  0.980616  0.980616  0.977634  0.981610   \n",
       "\n",
       "          7         8         9  \n",
       "0  0.979622  0.977634  0.980616  \n",
       "1  0.978131  0.980616  0.980119  \n",
       "2  0.979622  0.977634  0.983101  \n",
       "3  0.979125  0.983101  0.978628  \n",
       "4  0.980616  0.981610  0.980119  "
      ]
     },
     "execution_count": 31,
     "metadata": {},
     "output_type": "execute_result"
    }
   ],
   "source": [
    "clean_accuracy_scores_df = pd.DataFrame(clean_accuracy_scores)\n",
    "clean_accuracy_scores_df"
   ]
  },
  {
   "cell_type": "code",
   "execution_count": 34,
   "metadata": {},
   "outputs": [
    {
     "data": {
      "text/html": [
       "<div>\n",
       "<style scoped>\n",
       "    .dataframe tbody tr th:only-of-type {\n",
       "        vertical-align: middle;\n",
       "    }\n",
       "\n",
       "    .dataframe tbody tr th {\n",
       "        vertical-align: top;\n",
       "    }\n",
       "\n",
       "    .dataframe thead th {\n",
       "        text-align: right;\n",
       "    }\n",
       "</style>\n",
       "<table border=\"1\" class=\"dataframe\">\n",
       "  <thead>\n",
       "    <tr style=\"text-align: right;\">\n",
       "      <th></th>\n",
       "      <th>0</th>\n",
       "      <th>1</th>\n",
       "      <th>2</th>\n",
       "      <th>3</th>\n",
       "      <th>4</th>\n",
       "      <th>5</th>\n",
       "      <th>6</th>\n",
       "      <th>7</th>\n",
       "      <th>8</th>\n",
       "      <th>9</th>\n",
       "    </tr>\n",
       "  </thead>\n",
       "  <tbody>\n",
       "    <tr>\n",
       "      <th>0</th>\n",
       "      <td>0.954630</td>\n",
       "      <td>0.954167</td>\n",
       "      <td>0.954630</td>\n",
       "      <td>0.959722</td>\n",
       "      <td>0.957407</td>\n",
       "      <td>0.958796</td>\n",
       "      <td>0.953704</td>\n",
       "      <td>0.956019</td>\n",
       "      <td>0.954630</td>\n",
       "      <td>0.955556</td>\n",
       "    </tr>\n",
       "    <tr>\n",
       "      <th>1</th>\n",
       "      <td>0.956481</td>\n",
       "      <td>0.954630</td>\n",
       "      <td>0.954167</td>\n",
       "      <td>0.956481</td>\n",
       "      <td>0.959259</td>\n",
       "      <td>0.953704</td>\n",
       "      <td>0.954630</td>\n",
       "      <td>0.954167</td>\n",
       "      <td>0.955093</td>\n",
       "      <td>0.957870</td>\n",
       "    </tr>\n",
       "    <tr>\n",
       "      <th>2</th>\n",
       "      <td>0.956944</td>\n",
       "      <td>0.953704</td>\n",
       "      <td>0.950926</td>\n",
       "      <td>0.956019</td>\n",
       "      <td>0.955556</td>\n",
       "      <td>0.954167</td>\n",
       "      <td>0.955093</td>\n",
       "      <td>0.952778</td>\n",
       "      <td>0.955556</td>\n",
       "      <td>0.957870</td>\n",
       "    </tr>\n",
       "    <tr>\n",
       "      <th>3</th>\n",
       "      <td>0.956019</td>\n",
       "      <td>0.958796</td>\n",
       "      <td>0.956019</td>\n",
       "      <td>0.955093</td>\n",
       "      <td>0.954630</td>\n",
       "      <td>0.956481</td>\n",
       "      <td>0.957407</td>\n",
       "      <td>0.954167</td>\n",
       "      <td>0.958796</td>\n",
       "      <td>0.954167</td>\n",
       "    </tr>\n",
       "    <tr>\n",
       "      <th>4</th>\n",
       "      <td>0.953704</td>\n",
       "      <td>0.954167</td>\n",
       "      <td>0.954167</td>\n",
       "      <td>0.956019</td>\n",
       "      <td>0.954630</td>\n",
       "      <td>0.952778</td>\n",
       "      <td>0.957407</td>\n",
       "      <td>0.955556</td>\n",
       "      <td>0.956944</td>\n",
       "      <td>0.956481</td>\n",
       "    </tr>\n",
       "  </tbody>\n",
       "</table>\n",
       "</div>"
      ],
      "text/plain": [
       "          0         1         2         3         4         5         6  \\\n",
       "0  0.954630  0.954167  0.954630  0.959722  0.957407  0.958796  0.953704   \n",
       "1  0.956481  0.954630  0.954167  0.956481  0.959259  0.953704  0.954630   \n",
       "2  0.956944  0.953704  0.950926  0.956019  0.955556  0.954167  0.955093   \n",
       "3  0.956019  0.958796  0.956019  0.955093  0.954630  0.956481  0.957407   \n",
       "4  0.953704  0.954167  0.954167  0.956019  0.954630  0.952778  0.957407   \n",
       "\n",
       "          7         8         9  \n",
       "0  0.956019  0.954630  0.955556  \n",
       "1  0.954167  0.955093  0.957870  \n",
       "2  0.952778  0.955556  0.957870  \n",
       "3  0.954167  0.958796  0.954167  \n",
       "4  0.955556  0.956944  0.956481  "
      ]
     },
     "execution_count": 34,
     "metadata": {},
     "output_type": "execute_result"
    }
   ],
   "source": [
    "unclean_accuracy_scores_df = pd.DataFrame(unclean_accuracy_scores)\n",
    "unclean_accuracy_scores_df"
   ]
  },
  {
   "cell_type": "code",
   "execution_count": 37,
   "metadata": {},
   "outputs": [],
   "source": [
    "clean_accuracy_scores_df.to_excel(\"../../output/survey_data/20240115_remove_dirty_current_train_set_clean_acc_scores.xlsx\", index=False)"
   ]
  },
  {
   "cell_type": "code",
   "execution_count": 38,
   "metadata": {},
   "outputs": [],
   "source": [
    "unclean_accuracy_scores_df.to_excel(\"../../output/survey_data/20240115_remove_dirty_current_train_set_unclean_acc_scores.xlsx\", index=False)"
   ]
  },
  {
   "cell_type": "markdown",
   "metadata": {},
   "source": [
    "# Survey with test dataset"
   ]
  },
  {
   "cell_type": "markdown",
   "metadata": {},
   "source": [
    "## With CL"
   ]
  },
  {
   "cell_type": "code",
   "execution_count": 13,
   "metadata": {},
   "outputs": [
    {
     "name": "stdout",
     "output_type": "stream",
     "text": [
      "[+] Working with i = 0.1\n",
      "[+] Working with file: /home/mrcong/Code/nilm_as/data/cl_survey_data/test_dataset/cl_test_files_0.1_dirty_removed.xlsx\n",
      "[+] Working with i = 0.2\n",
      "[+] Working with file: /home/mrcong/Code/nilm_as/data/cl_survey_data/test_dataset/cl_test_files_0.2_dirty_removed.xlsx\n",
      "[+] Working with i = 0.4\n",
      "[+] Working with file: /home/mrcong/Code/nilm_as/data/cl_survey_data/test_dataset/cl_test_files_0.4_dirty_removed.xlsx\n",
      "[+] Working with i = 0.6\n",
      "[+] Working with file: /home/mrcong/Code/nilm_as/data/cl_survey_data/test_dataset/cl_test_files_0.6_dirty_removed.xlsx\n",
      "[+] Working with i = 0.8\n",
      "[+] Working with file: /home/mrcong/Code/nilm_as/data/cl_survey_data/test_dataset/cl_test_files_0.8_dirty_removed.xlsx\n"
     ]
    }
   ],
   "source": [
    "test_accuracy_clean = []\n",
    "for i in [0.1, 0.2, 0.4, 0.6, 0.8]:\n",
    "    test_file_name = f\"/home/mrcong/Code/nilm_as/data/cl_survey_data/test_dataset/cl_test_files_{i}_dirty_removed.xlsx\"\n",
    "    print(f\"[+] Working with i = {i}\")\n",
    "    test_accuracy_clean.append(get_accuracy_with_test_set(file_name=test_file_name, X_train=X_train_clean, y_train=y_train_clean))\n",
    "test_accuracy_clean = np.array(test_accuracy_clean)"
   ]
  },
  {
   "cell_type": "markdown",
   "metadata": {},
   "source": [
    "## Without CL"
   ]
  },
  {
   "cell_type": "code",
   "execution_count": 17,
   "metadata": {},
   "outputs": [
    {
     "name": "stdout",
     "output_type": "stream",
     "text": [
      "[+] Working with i = 0.1\n",
      "[+] Working with file: /home/mrcong/Code/nilm_as/data/cl_survey_data/test_dataset/cl_test_files_0.1_dirty_removed.xlsx\n",
      "[+] Working with i = 0.2\n",
      "[+] Working with file: /home/mrcong/Code/nilm_as/data/cl_survey_data/test_dataset/cl_test_files_0.2_dirty_removed.xlsx\n",
      "[+] Working with i = 0.4\n",
      "[+] Working with file: /home/mrcong/Code/nilm_as/data/cl_survey_data/test_dataset/cl_test_files_0.4_dirty_removed.xlsx\n",
      "[+] Working with i = 0.6\n",
      "[+] Working with file: /home/mrcong/Code/nilm_as/data/cl_survey_data/test_dataset/cl_test_files_0.6_dirty_removed.xlsx\n",
      "[+] Working with i = 0.8\n",
      "[+] Working with file: /home/mrcong/Code/nilm_as/data/cl_survey_data/test_dataset/cl_test_files_0.8_dirty_removed.xlsx\n"
     ]
    }
   ],
   "source": [
    "test_accuracy_unclean = []\n",
    "for i in [0.1, 0.2, 0.4, 0.6, 0.8]:\n",
    "    test_file_name = f\"/home/mrcong/Code/nilm_as/data/cl_survey_data/test_dataset/cl_test_files_{i}_dirty_removed.xlsx\"\n",
    "    print(f\"[+] Working with i = {i}\")\n",
    "    test_accuracy_unclean.append(get_accuracy_with_test_set(file_name=test_file_name, X_train=X_train_unclean, y_train=y_train_unclean))\n",
    "test_accuracy_unclean = np.array(test_accuracy_unclean)"
   ]
  },
  {
   "cell_type": "markdown",
   "metadata": {},
   "source": [
    "## Write to files"
   ]
  },
  {
   "cell_type": "code",
   "execution_count": 19,
   "metadata": {},
   "outputs": [],
   "source": [
    "clean_test_accuracy_df = pd.DataFrame(test_accuracy_clean)\n",
    "unclean_test_acc_df = pd.DataFrame(test_accuracy_unclean)"
   ]
  },
  {
   "cell_type": "code",
   "execution_count": 20,
   "metadata": {},
   "outputs": [
    {
     "data": {
      "text/html": [
       "<div>\n",
       "<style scoped>\n",
       "    .dataframe tbody tr th:only-of-type {\n",
       "        vertical-align: middle;\n",
       "    }\n",
       "\n",
       "    .dataframe tbody tr th {\n",
       "        vertical-align: top;\n",
       "    }\n",
       "\n",
       "    .dataframe thead th {\n",
       "        text-align: right;\n",
       "    }\n",
       "</style>\n",
       "<table border=\"1\" class=\"dataframe\">\n",
       "  <thead>\n",
       "    <tr style=\"text-align: right;\">\n",
       "      <th></th>\n",
       "      <th>0</th>\n",
       "      <th>1</th>\n",
       "      <th>2</th>\n",
       "      <th>3</th>\n",
       "      <th>4</th>\n",
       "      <th>5</th>\n",
       "      <th>6</th>\n",
       "      <th>7</th>\n",
       "      <th>8</th>\n",
       "      <th>9</th>\n",
       "    </tr>\n",
       "  </thead>\n",
       "  <tbody>\n",
       "    <tr>\n",
       "      <th>0</th>\n",
       "      <td>0.957150</td>\n",
       "      <td>0.957150</td>\n",
       "      <td>0.956684</td>\n",
       "      <td>0.957615</td>\n",
       "      <td>0.957615</td>\n",
       "      <td>0.957615</td>\n",
       "      <td>0.957150</td>\n",
       "      <td>0.956684</td>\n",
       "      <td>0.956684</td>\n",
       "      <td>0.957615</td>\n",
       "    </tr>\n",
       "    <tr>\n",
       "      <th>1</th>\n",
       "      <td>0.958724</td>\n",
       "      <td>0.960131</td>\n",
       "      <td>0.959193</td>\n",
       "      <td>0.961069</td>\n",
       "      <td>0.960131</td>\n",
       "      <td>0.960131</td>\n",
       "      <td>0.959662</td>\n",
       "      <td>0.959193</td>\n",
       "      <td>0.959662</td>\n",
       "      <td>0.959193</td>\n",
       "    </tr>\n",
       "    <tr>\n",
       "      <th>2</th>\n",
       "      <td>0.964812</td>\n",
       "      <td>0.963861</td>\n",
       "      <td>0.964337</td>\n",
       "      <td>0.966239</td>\n",
       "      <td>0.963861</td>\n",
       "      <td>0.965288</td>\n",
       "      <td>0.964337</td>\n",
       "      <td>0.964812</td>\n",
       "      <td>0.963386</td>\n",
       "      <td>0.965763</td>\n",
       "    </tr>\n",
       "    <tr>\n",
       "      <th>3</th>\n",
       "      <td>0.969609</td>\n",
       "      <td>0.970092</td>\n",
       "      <td>0.970092</td>\n",
       "      <td>0.970092</td>\n",
       "      <td>0.970092</td>\n",
       "      <td>0.970574</td>\n",
       "      <td>0.968644</td>\n",
       "      <td>0.970092</td>\n",
       "      <td>0.968162</td>\n",
       "      <td>0.970574</td>\n",
       "    </tr>\n",
       "    <tr>\n",
       "      <th>4</th>\n",
       "      <td>0.974560</td>\n",
       "      <td>0.975538</td>\n",
       "      <td>0.975049</td>\n",
       "      <td>0.973581</td>\n",
       "      <td>0.975049</td>\n",
       "      <td>0.975538</td>\n",
       "      <td>0.975049</td>\n",
       "      <td>0.975049</td>\n",
       "      <td>0.974560</td>\n",
       "      <td>0.975049</td>\n",
       "    </tr>\n",
       "  </tbody>\n",
       "</table>\n",
       "</div>"
      ],
      "text/plain": [
       "          0         1         2         3         4         5         6  \\\n",
       "0  0.957150  0.957150  0.956684  0.957615  0.957615  0.957615  0.957150   \n",
       "1  0.958724  0.960131  0.959193  0.961069  0.960131  0.960131  0.959662   \n",
       "2  0.964812  0.963861  0.964337  0.966239  0.963861  0.965288  0.964337   \n",
       "3  0.969609  0.970092  0.970092  0.970092  0.970092  0.970574  0.968644   \n",
       "4  0.974560  0.975538  0.975049  0.973581  0.975049  0.975538  0.975049   \n",
       "\n",
       "          7         8         9  \n",
       "0  0.956684  0.956684  0.957615  \n",
       "1  0.959193  0.959662  0.959193  \n",
       "2  0.964812  0.963386  0.965763  \n",
       "3  0.970092  0.968162  0.970574  \n",
       "4  0.975049  0.974560  0.975049  "
      ]
     },
     "execution_count": 20,
     "metadata": {},
     "output_type": "execute_result"
    }
   ],
   "source": [
    "clean_test_accuracy_df"
   ]
  },
  {
   "cell_type": "code",
   "execution_count": 21,
   "metadata": {},
   "outputs": [
    {
     "data": {
      "text/html": [
       "<div>\n",
       "<style scoped>\n",
       "    .dataframe tbody tr th:only-of-type {\n",
       "        vertical-align: middle;\n",
       "    }\n",
       "\n",
       "    .dataframe tbody tr th {\n",
       "        vertical-align: top;\n",
       "    }\n",
       "\n",
       "    .dataframe thead th {\n",
       "        text-align: right;\n",
       "    }\n",
       "</style>\n",
       "<table border=\"1\" class=\"dataframe\">\n",
       "  <thead>\n",
       "    <tr style=\"text-align: right;\">\n",
       "      <th></th>\n",
       "      <th>0</th>\n",
       "      <th>1</th>\n",
       "      <th>2</th>\n",
       "      <th>3</th>\n",
       "      <th>4</th>\n",
       "      <th>5</th>\n",
       "      <th>6</th>\n",
       "      <th>7</th>\n",
       "      <th>8</th>\n",
       "      <th>9</th>\n",
       "    </tr>\n",
       "  </thead>\n",
       "  <tbody>\n",
       "    <tr>\n",
       "      <th>0</th>\n",
       "      <td>0.959013</td>\n",
       "      <td>0.958547</td>\n",
       "      <td>0.958081</td>\n",
       "      <td>0.958081</td>\n",
       "      <td>0.958547</td>\n",
       "      <td>0.958081</td>\n",
       "      <td>0.958547</td>\n",
       "      <td>0.957615</td>\n",
       "      <td>0.957150</td>\n",
       "      <td>0.959013</td>\n",
       "    </tr>\n",
       "    <tr>\n",
       "      <th>1</th>\n",
       "      <td>0.960600</td>\n",
       "      <td>0.962008</td>\n",
       "      <td>0.959662</td>\n",
       "      <td>0.961069</td>\n",
       "      <td>0.960131</td>\n",
       "      <td>0.960600</td>\n",
       "      <td>0.961538</td>\n",
       "      <td>0.959193</td>\n",
       "      <td>0.959193</td>\n",
       "      <td>0.960131</td>\n",
       "    </tr>\n",
       "    <tr>\n",
       "      <th>2</th>\n",
       "      <td>0.965288</td>\n",
       "      <td>0.965288</td>\n",
       "      <td>0.965288</td>\n",
       "      <td>0.966239</td>\n",
       "      <td>0.963386</td>\n",
       "      <td>0.965763</td>\n",
       "      <td>0.964812</td>\n",
       "      <td>0.964812</td>\n",
       "      <td>0.963386</td>\n",
       "      <td>0.964812</td>\n",
       "    </tr>\n",
       "    <tr>\n",
       "      <th>3</th>\n",
       "      <td>0.969127</td>\n",
       "      <td>0.969127</td>\n",
       "      <td>0.968644</td>\n",
       "      <td>0.970092</td>\n",
       "      <td>0.970092</td>\n",
       "      <td>0.970092</td>\n",
       "      <td>0.966715</td>\n",
       "      <td>0.968644</td>\n",
       "      <td>0.966715</td>\n",
       "      <td>0.968644</td>\n",
       "    </tr>\n",
       "    <tr>\n",
       "      <th>4</th>\n",
       "      <td>0.972603</td>\n",
       "      <td>0.973092</td>\n",
       "      <td>0.974070</td>\n",
       "      <td>0.971624</td>\n",
       "      <td>0.973581</td>\n",
       "      <td>0.973581</td>\n",
       "      <td>0.973581</td>\n",
       "      <td>0.974560</td>\n",
       "      <td>0.972603</td>\n",
       "      <td>0.972114</td>\n",
       "    </tr>\n",
       "  </tbody>\n",
       "</table>\n",
       "</div>"
      ],
      "text/plain": [
       "          0         1         2         3         4         5         6  \\\n",
       "0  0.959013  0.958547  0.958081  0.958081  0.958547  0.958081  0.958547   \n",
       "1  0.960600  0.962008  0.959662  0.961069  0.960131  0.960600  0.961538   \n",
       "2  0.965288  0.965288  0.965288  0.966239  0.963386  0.965763  0.964812   \n",
       "3  0.969127  0.969127  0.968644  0.970092  0.970092  0.970092  0.966715   \n",
       "4  0.972603  0.973092  0.974070  0.971624  0.973581  0.973581  0.973581   \n",
       "\n",
       "          7         8         9  \n",
       "0  0.957615  0.957150  0.959013  \n",
       "1  0.959193  0.959193  0.960131  \n",
       "2  0.964812  0.963386  0.964812  \n",
       "3  0.968644  0.966715  0.968644  \n",
       "4  0.974560  0.972603  0.972114  "
      ]
     },
     "execution_count": 21,
     "metadata": {},
     "output_type": "execute_result"
    }
   ],
   "source": [
    "unclean_test_acc_df"
   ]
  },
  {
   "cell_type": "code",
   "execution_count": 22,
   "metadata": {},
   "outputs": [],
   "source": [
    "clean_test_accuracy_df.to_excel(\"../../output/survey_data/20240115_remove_dirty_current_clean_test_set_acc_scores.xlsx\", index=False)\n",
    "unclean_test_acc_df.to_excel(\"../../output/survey_data/20240115_remove_dirty_current_unclean_test_set_acc_scores.xlsx\", index=False)"
   ]
  }
 ],
 "metadata": {
  "kernelspec": {
   "display_name": "my-rdkit-env",
   "language": "python",
   "name": "python3"
  },
  "language_info": {
   "codemirror_mode": {
    "name": "ipython",
    "version": 3
   },
   "file_extension": ".py",
   "mimetype": "text/x-python",
   "name": "python",
   "nbconvert_exporter": "python",
   "pygments_lexer": "ipython3",
   "version": "3.11.3"
  }
 },
 "nbformat": 4,
 "nbformat_minor": 2
}
