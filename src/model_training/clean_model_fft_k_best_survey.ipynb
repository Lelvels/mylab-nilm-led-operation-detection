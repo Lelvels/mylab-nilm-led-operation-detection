{
 "cells": [
  {
   "cell_type": "code",
   "execution_count": 1,
   "metadata": {},
   "outputs": [],
   "source": [
    "import os\n",
    "import pandas as pd\n",
    "import matplotlib.pyplot as plt\n",
    "import numpy as np\n",
    "import seaborn as sns\n",
    "\n",
    "from sklearn.preprocessing import LabelEncoder\n",
    "from sklearn.metrics import accuracy_score\n",
    "from data_repository import DataRepository\n",
    "from model_training_ultils import ModelMemCalculation\n",
    "from model_training_ultils import ModelEvaluationUltis"
   ]
  },
  {
   "cell_type": "markdown",
   "metadata": {},
   "source": [
    "# Import data"
   ]
  },
  {
   "cell_type": "code",
   "execution_count": 2,
   "metadata": {},
   "outputs": [],
   "source": [
    "mem_cal = ModelMemCalculation()\n",
    "evaludation_tool = ModelEvaluationUltis()"
   ]
  },
  {
   "cell_type": "code",
   "execution_count": 3,
   "metadata": {},
   "outputs": [],
   "source": [
    "data_repo = DataRepository(\"../.env\")\n",
    "#Clean data\n",
    "train_ampls, y_train, validation_ampls, y_validation, test_ampls, y_test = data_repo.load_fft_data(clean_data=True)"
   ]
  },
  {
   "cell_type": "code",
   "execution_count": 4,
   "metadata": {},
   "outputs": [
    {
     "name": "stdout",
     "output_type": "stream",
     "text": [
      "Train dataset: X: (8188, 4501), y: (8188,)\n",
      "Validation dataset: X: (1123, 4501), y: (1123,)\n",
      "Test dataset: X: (2012, 4501), y: (2012,)\n"
     ]
    }
   ],
   "source": [
    "print(f\"Train dataset: X: {train_ampls.shape}, y: {y_train.shape}\")\n",
    "print(f\"Validation dataset: X: {validation_ampls.shape}, y: {y_validation.shape}\")\n",
    "print(f\"Test dataset: X: {test_ampls.shape}, y: {y_test.shape}\")"
   ]
  },
  {
   "cell_type": "markdown",
   "metadata": {},
   "source": [
    "__Label encoder__"
   ]
  },
  {
   "cell_type": "code",
   "execution_count": 5,
   "metadata": {},
   "outputs": [],
   "source": [
    "# Chuyển đổi danh sách labels thành mã số\n",
    "label_encoder = LabelEncoder()\n",
    "y_train = label_encoder.fit_transform(y_train)\n",
    "y_validation = label_encoder.transform(y_validation)\n",
    "y_test = label_encoder.transform(y_test)"
   ]
  },
  {
   "cell_type": "code",
   "execution_count": 6,
   "metadata": {},
   "outputs": [
    {
     "name": "stdout",
     "output_type": "stream",
     "text": [
      "['error', 'normal', 'overcurrent', 'overheating', 'zero']\n",
      "[0 1 2 3 4]\n"
     ]
    }
   ],
   "source": [
    "print(list(label_encoder.classes_))\n",
    "print(label_encoder.transform(list(label_encoder.classes_)))"
   ]
  },
  {
   "cell_type": "markdown",
   "metadata": {},
   "source": [
    "# Feature selection survey based on k best"
   ]
  },
  {
   "cell_type": "code",
   "execution_count": 7,
   "metadata": {},
   "outputs": [],
   "source": [
    "def find_top_k_indices(amplitudes, k):\n",
    "    # Get the indices of the top 50 elements\n",
    "    top_k_indices = np.argsort(amplitudes)[-k:][::-1]\n",
    "    highest_ampls = amplitudes[top_k_indices]\n",
    "    return highest_ampls\n",
    "\n",
    "def get_x_by_top_ampls(k, ampls):\n",
    "    X = []\n",
    "    for ampl in ampls:\n",
    "        X.append(find_top_k_indices(amplitudes=ampl, k=k))\n",
    "    return np.array(X)"
   ]
  },
  {
   "cell_type": "code",
   "execution_count": 16,
   "metadata": {},
   "outputs": [
    {
     "data": {
      "text/plain": [
       "(8188, 2)"
      ]
     },
     "execution_count": 16,
     "metadata": {},
     "output_type": "execute_result"
    }
   ],
   "source": [
    "test_x = get_x_by_top_ampls(k=2, ampls=train_ampls)\n",
    "test_x.shape"
   ]
  },
  {
   "cell_type": "code",
   "execution_count": null,
   "metadata": {},
   "outputs": [],
   "source": [
    "from sklearn.svm import SVC\n",
    "from sklearn.ensemble import RandomForestClassifier\n",
    "from xgboost import XGBClassifier\n",
    "from sklearn.feature_selection import SelectKBest\n",
    "from sklearn.feature_selection import f_classif\n",
    "from tqdm import tqdm\n",
    "\n",
    "svm_acs, svm_f1s = [], []\n",
    "rf_acs, rf_f1s = [], []\n",
    "xgb_acs, xgb_f1s = [], []\n",
    "k_arr = []\n",
    "\n",
    "for k in range(1, 4501, 10):\n",
    "    # Feature selection\n",
    "    print(f\"[+] Working with {k} features\")\n",
    "    #Using top 50 ampls\n",
    "    k_arr.append(k)\n",
    "    X_train = get_x_by_top_ampls(k=k, ampls=train_ampls)\n",
    "    X_validation = get_x_by_top_ampls(k=k, ampls=validation_ampls)\n",
    "    X_test = get_x_by_top_ampls(k=k, ampls=test_ampls)\n",
    "    # Tạo mô hình SVM\n",
    "    svm_model2 = SVC(kernel='rbf', random_state=42, probability=False)\n",
    "    svm_model2.fit(X_train, y_train)\n",
    "    # Tạo mô hình RF\n",
    "    rf_model2 = RandomForestClassifier(n_estimators=100, criterion='entropy', random_state=42)\n",
    "    rf_model2.fit(X_train, y_train)\n",
    "    # Tạo mô hình XgBoost\n",
    "    xgboost_model2 = XGBClassifier(objective='binary:logistic', tree_method=\"gpu_hist\")\n",
    "    xgboost_model2.fit(X_train, y_train)\n",
    "    # SVM\n",
    "    svm_accuracy, svm_f1_macro = evaludation_tool.evaluate_models(model=svm_model2, X_test=X_test, y_test=y_test)\n",
    "    svm_acs.append(svm_accuracy)\n",
    "    svm_f1s.append(svm_f1_macro)\n",
    "    # Random forest\n",
    "    rf_accuracy, rf_f1_macro = evaludation_tool.evaluate_models(model=rf_model2, X_test=X_test, y_test=y_test)\n",
    "    rf_acs.append(rf_accuracy)\n",
    "    rf_f1s.append(rf_f1_macro)\n",
    "    # XgBoost\n",
    "    xgb_accuracy, xgb_f1_macro = evaludation_tool.evaluate_models(model=xgboost_model2, X_test=X_test, y_test=y_test)\n",
    "    xgb_acs.append(xgb_accuracy)\n",
    "    xgb_f1s.append(xgb_f1_macro)\n",
    "    print(f\"[+] Finished {k} features\")"
   ]
  },
  {
   "cell_type": "code",
   "execution_count": null,
   "metadata": {},
   "outputs": [
    {
     "data": {
      "text/plain": [
       "(2012, 101)"
      ]
     },
     "execution_count": 9,
     "metadata": {},
     "output_type": "execute_result"
    }
   ],
   "source": [
    "X_test.shape"
   ]
  },
  {
   "cell_type": "code",
   "execution_count": null,
   "metadata": {},
   "outputs": [],
   "source": [
    "X_train"
   ]
  },
  {
   "cell_type": "code",
   "execution_count": null,
   "metadata": {},
   "outputs": [
    {
     "name": "stdout",
     "output_type": "stream",
     "text": [
      "501 501\n"
     ]
    }
   ],
   "source": [
    "print(len(k_arr), len(svm_acs))"
   ]
  },
  {
   "cell_type": "code",
   "execution_count": null,
   "metadata": {},
   "outputs": [
    {
     "ename": "ValueError",
     "evalue": "All arrays must be of the same length",
     "output_type": "error",
     "traceback": [
      "\u001b[0;31m---------------------------------------------------------------------------\u001b[0m",
      "\u001b[0;31mValueError\u001b[0m                                Traceback (most recent call last)",
      "Cell \u001b[0;32mIn[11], line 11\u001b[0m\n\u001b[1;32m      1\u001b[0m \u001b[38;5;66;03m#Create a dict\u001b[39;00m\n\u001b[1;32m      2\u001b[0m test_evaluation_dict \u001b[38;5;241m=\u001b[39m {\n\u001b[1;32m      3\u001b[0m     \u001b[38;5;124m\"\u001b[39m\u001b[38;5;124mk values\u001b[39m\u001b[38;5;124m\"\u001b[39m: k_arr,\n\u001b[1;32m      4\u001b[0m     \u001b[38;5;124m\"\u001b[39m\u001b[38;5;124mSVM accuracy\u001b[39m\u001b[38;5;124m\"\u001b[39m: svm_acs,\n\u001b[0;32m   (...)\u001b[0m\n\u001b[1;32m      9\u001b[0m     \u001b[38;5;124m\"\u001b[39m\u001b[38;5;124mXGB F1-Score\u001b[39m\u001b[38;5;124m\"\u001b[39m: xgb_f1s,\n\u001b[1;32m     10\u001b[0m }\n\u001b[0;32m---> 11\u001b[0m test_eval_df \u001b[38;5;241m=\u001b[39m \u001b[43mpd\u001b[49m\u001b[38;5;241;43m.\u001b[39;49m\u001b[43mDataFrame\u001b[49m\u001b[43m(\u001b[49m\u001b[43mtest_evaluation_dict\u001b[49m\u001b[43m)\u001b[49m\n\u001b[1;32m     12\u001b[0m test_eval_df\u001b[38;5;241m.\u001b[39mhead()\n",
      "File \u001b[0;32m~/anaconda3/envs/my-rdkit-env/lib/python3.11/site-packages/pandas/core/frame.py:664\u001b[0m, in \u001b[0;36mDataFrame.__init__\u001b[0;34m(self, data, index, columns, dtype, copy)\u001b[0m\n\u001b[1;32m    658\u001b[0m     mgr \u001b[38;5;241m=\u001b[39m \u001b[38;5;28mself\u001b[39m\u001b[38;5;241m.\u001b[39m_init_mgr(\n\u001b[1;32m    659\u001b[0m         data, axes\u001b[38;5;241m=\u001b[39m{\u001b[38;5;124m\"\u001b[39m\u001b[38;5;124mindex\u001b[39m\u001b[38;5;124m\"\u001b[39m: index, \u001b[38;5;124m\"\u001b[39m\u001b[38;5;124mcolumns\u001b[39m\u001b[38;5;124m\"\u001b[39m: columns}, dtype\u001b[38;5;241m=\u001b[39mdtype, copy\u001b[38;5;241m=\u001b[39mcopy\n\u001b[1;32m    660\u001b[0m     )\n\u001b[1;32m    662\u001b[0m \u001b[38;5;28;01melif\u001b[39;00m \u001b[38;5;28misinstance\u001b[39m(data, \u001b[38;5;28mdict\u001b[39m):\n\u001b[1;32m    663\u001b[0m     \u001b[38;5;66;03m# GH#38939 de facto copy defaults to False only in non-dict cases\u001b[39;00m\n\u001b[0;32m--> 664\u001b[0m     mgr \u001b[38;5;241m=\u001b[39m \u001b[43mdict_to_mgr\u001b[49m\u001b[43m(\u001b[49m\u001b[43mdata\u001b[49m\u001b[43m,\u001b[49m\u001b[43m \u001b[49m\u001b[43mindex\u001b[49m\u001b[43m,\u001b[49m\u001b[43m \u001b[49m\u001b[43mcolumns\u001b[49m\u001b[43m,\u001b[49m\u001b[43m \u001b[49m\u001b[43mdtype\u001b[49m\u001b[38;5;241;43m=\u001b[39;49m\u001b[43mdtype\u001b[49m\u001b[43m,\u001b[49m\u001b[43m \u001b[49m\u001b[43mcopy\u001b[49m\u001b[38;5;241;43m=\u001b[39;49m\u001b[43mcopy\u001b[49m\u001b[43m,\u001b[49m\u001b[43m \u001b[49m\u001b[43mtyp\u001b[49m\u001b[38;5;241;43m=\u001b[39;49m\u001b[43mmanager\u001b[49m\u001b[43m)\u001b[49m\n\u001b[1;32m    665\u001b[0m \u001b[38;5;28;01melif\u001b[39;00m \u001b[38;5;28misinstance\u001b[39m(data, ma\u001b[38;5;241m.\u001b[39mMaskedArray):\n\u001b[1;32m    666\u001b[0m     \u001b[38;5;28;01mimport\u001b[39;00m \u001b[38;5;21;01mnumpy\u001b[39;00m\u001b[38;5;21;01m.\u001b[39;00m\u001b[38;5;21;01mma\u001b[39;00m\u001b[38;5;21;01m.\u001b[39;00m\u001b[38;5;21;01mmrecords\u001b[39;00m \u001b[38;5;28;01mas\u001b[39;00m \u001b[38;5;21;01mmrecords\u001b[39;00m\n",
      "File \u001b[0;32m~/anaconda3/envs/my-rdkit-env/lib/python3.11/site-packages/pandas/core/internals/construction.py:493\u001b[0m, in \u001b[0;36mdict_to_mgr\u001b[0;34m(data, index, columns, dtype, typ, copy)\u001b[0m\n\u001b[1;32m    489\u001b[0m     \u001b[38;5;28;01melse\u001b[39;00m:\n\u001b[1;32m    490\u001b[0m         \u001b[38;5;66;03m# dtype check to exclude e.g. range objects, scalars\u001b[39;00m\n\u001b[1;32m    491\u001b[0m         arrays \u001b[38;5;241m=\u001b[39m [x\u001b[38;5;241m.\u001b[39mcopy() \u001b[38;5;28;01mif\u001b[39;00m \u001b[38;5;28mhasattr\u001b[39m(x, \u001b[38;5;124m\"\u001b[39m\u001b[38;5;124mdtype\u001b[39m\u001b[38;5;124m\"\u001b[39m) \u001b[38;5;28;01melse\u001b[39;00m x \u001b[38;5;28;01mfor\u001b[39;00m x \u001b[38;5;129;01min\u001b[39;00m arrays]\n\u001b[0;32m--> 493\u001b[0m \u001b[38;5;28;01mreturn\u001b[39;00m \u001b[43marrays_to_mgr\u001b[49m\u001b[43m(\u001b[49m\u001b[43marrays\u001b[49m\u001b[43m,\u001b[49m\u001b[43m \u001b[49m\u001b[43mcolumns\u001b[49m\u001b[43m,\u001b[49m\u001b[43m \u001b[49m\u001b[43mindex\u001b[49m\u001b[43m,\u001b[49m\u001b[43m \u001b[49m\u001b[43mdtype\u001b[49m\u001b[38;5;241;43m=\u001b[39;49m\u001b[43mdtype\u001b[49m\u001b[43m,\u001b[49m\u001b[43m \u001b[49m\u001b[43mtyp\u001b[49m\u001b[38;5;241;43m=\u001b[39;49m\u001b[43mtyp\u001b[49m\u001b[43m,\u001b[49m\u001b[43m \u001b[49m\u001b[43mconsolidate\u001b[49m\u001b[38;5;241;43m=\u001b[39;49m\u001b[43mcopy\u001b[49m\u001b[43m)\u001b[49m\n",
      "File \u001b[0;32m~/anaconda3/envs/my-rdkit-env/lib/python3.11/site-packages/pandas/core/internals/construction.py:118\u001b[0m, in \u001b[0;36marrays_to_mgr\u001b[0;34m(arrays, columns, index, dtype, verify_integrity, typ, consolidate)\u001b[0m\n\u001b[1;32m    115\u001b[0m \u001b[38;5;28;01mif\u001b[39;00m verify_integrity:\n\u001b[1;32m    116\u001b[0m     \u001b[38;5;66;03m# figure out the index, if necessary\u001b[39;00m\n\u001b[1;32m    117\u001b[0m     \u001b[38;5;28;01mif\u001b[39;00m index \u001b[38;5;129;01mis\u001b[39;00m \u001b[38;5;28;01mNone\u001b[39;00m:\n\u001b[0;32m--> 118\u001b[0m         index \u001b[38;5;241m=\u001b[39m \u001b[43m_extract_index\u001b[49m\u001b[43m(\u001b[49m\u001b[43marrays\u001b[49m\u001b[43m)\u001b[49m\n\u001b[1;32m    119\u001b[0m     \u001b[38;5;28;01melse\u001b[39;00m:\n\u001b[1;32m    120\u001b[0m         index \u001b[38;5;241m=\u001b[39m ensure_index(index)\n",
      "File \u001b[0;32m~/anaconda3/envs/my-rdkit-env/lib/python3.11/site-packages/pandas/core/internals/construction.py:666\u001b[0m, in \u001b[0;36m_extract_index\u001b[0;34m(data)\u001b[0m\n\u001b[1;32m    664\u001b[0m lengths \u001b[38;5;241m=\u001b[39m \u001b[38;5;28mlist\u001b[39m(\u001b[38;5;28mset\u001b[39m(raw_lengths))\n\u001b[1;32m    665\u001b[0m \u001b[38;5;28;01mif\u001b[39;00m \u001b[38;5;28mlen\u001b[39m(lengths) \u001b[38;5;241m>\u001b[39m \u001b[38;5;241m1\u001b[39m:\n\u001b[0;32m--> 666\u001b[0m     \u001b[38;5;28;01mraise\u001b[39;00m \u001b[38;5;167;01mValueError\u001b[39;00m(\u001b[38;5;124m\"\u001b[39m\u001b[38;5;124mAll arrays must be of the same length\u001b[39m\u001b[38;5;124m\"\u001b[39m)\n\u001b[1;32m    668\u001b[0m \u001b[38;5;28;01mif\u001b[39;00m have_dicts:\n\u001b[1;32m    669\u001b[0m     \u001b[38;5;28;01mraise\u001b[39;00m \u001b[38;5;167;01mValueError\u001b[39;00m(\n\u001b[1;32m    670\u001b[0m         \u001b[38;5;124m\"\u001b[39m\u001b[38;5;124mMixing dicts with non-Series may lead to ambiguous ordering.\u001b[39m\u001b[38;5;124m\"\u001b[39m\n\u001b[1;32m    671\u001b[0m     )\n",
      "\u001b[0;31mValueError\u001b[0m: All arrays must be of the same length"
     ]
    }
   ],
   "source": [
    "#Create a dict\n",
    "test_evaluation_dict = {\n",
    "    \"k values\": k_arr,\n",
    "    \"SVM accuracy\": svm_acs,\n",
    "    \"SVM F1-Score\": svm_f1s,\n",
    "    \"RF accuracy\": rf_acs,\n",
    "    \"RF F1-Score\": rf_f1s,\n",
    "    \"XGB accuracy\": xgb_acs,\n",
    "    \"XGB F1-Score\": xgb_f1s,\n",
    "}\n",
    "test_eval_df = pd.DataFrame(test_evaluation_dict)\n",
    "test_eval_df.head()"
   ]
  },
  {
   "cell_type": "code",
   "execution_count": null,
   "metadata": {},
   "outputs": [],
   "source": [
    "test_eval_df.to_excel(\"../../output/others/20240107_select_k_test_set.xlsx\", index=False)"
   ]
  },
  {
   "cell_type": "code",
   "execution_count": 11,
   "metadata": {},
   "outputs": [
    {
     "name": "stdout",
     "output_type": "stream",
     "text": [
      "[+] Working with 4491 features\n",
      "[+] Finished 4491 features\n",
      "[+] Working with 4501 features\n",
      "[+] Finished 4501 features\n"
     ]
    }
   ],
   "source": [
    "from sklearn.svm import SVC\n",
    "from sklearn.ensemble import RandomForestClassifier\n",
    "from xgboost import XGBClassifier\n",
    "from sklearn.feature_selection import SelectKBest\n",
    "from sklearn.feature_selection import f_classif\n",
    "from tqdm import tqdm\n",
    "\n",
    "svm_acs, svm_f1s = [], []\n",
    "rf_acs, rf_f1s = [], []\n",
    "xgb_acs, xgb_f1s = [], []\n",
    "k_arr = []\n",
    "\n",
    "for k in range(4491, 4502, 10):\n",
    "    # Feature selection\n",
    "    print(f\"[+] Working with {k} features\")\n",
    "    #Using top 50 ampls\n",
    "    k_arr.append(k)\n",
    "    X_train = get_x_by_top_ampls(k=k, ampls=train_ampls)\n",
    "    X_validation = get_x_by_top_ampls(k=k, ampls=validation_ampls)\n",
    "    X_test = get_x_by_top_ampls(k=k, ampls=test_ampls)\n",
    "    # Tạo mô hình SVM\n",
    "    svm_model2 = SVC(kernel='rbf', random_state=42, probability=False)\n",
    "    svm_model2.fit(X_train, y_train)\n",
    "    # Tạo mô hình RF\n",
    "    rf_model2 = RandomForestClassifier(n_estimators=100, criterion='entropy', random_state=42)\n",
    "    rf_model2.fit(X_train, y_train)\n",
    "    # Tạo mô hình XgBoost\n",
    "    xgboost_model2 = XGBClassifier(objective='binary:logistic', tree_method=\"gpu_hist\")\n",
    "    xgboost_model2.fit(X_train, y_train)\n",
    "    # SVM\n",
    "    svm_accuracy, svm_f1_macro = evaludation_tool.evaluate_models(model=svm_model2, X_test=X_validation, y_test=y_validation)\n",
    "    svm_acs.append(svm_accuracy)\n",
    "    svm_f1s.append(svm_f1_macro)\n",
    "    # Random forest\n",
    "    rf_accuracy, rf_f1_macro = evaludation_tool.evaluate_models(model=rf_model2, X_test=X_validation, y_test=y_validation)\n",
    "    rf_acs.append(rf_accuracy)\n",
    "    rf_f1s.append(rf_f1_macro)\n",
    "    # XgBoost\n",
    "    xgb_accuracy, xgb_f1_macro = evaludation_tool.evaluate_models(model=xgboost_model2, X_test=X_validation, y_test=y_validation)\n",
    "    xgb_acs.append(xgb_accuracy)\n",
    "    xgb_f1s.append(xgb_f1_macro)\n",
    "    print(f\"[+] Finished {k} features\")"
   ]
  },
  {
   "cell_type": "code",
   "execution_count": 12,
   "metadata": {},
   "outputs": [
    {
     "data": {
      "text/html": [
       "<div>\n",
       "<style scoped>\n",
       "    .dataframe tbody tr th:only-of-type {\n",
       "        vertical-align: middle;\n",
       "    }\n",
       "\n",
       "    .dataframe tbody tr th {\n",
       "        vertical-align: top;\n",
       "    }\n",
       "\n",
       "    .dataframe thead th {\n",
       "        text-align: right;\n",
       "    }\n",
       "</style>\n",
       "<table border=\"1\" class=\"dataframe\">\n",
       "  <thead>\n",
       "    <tr style=\"text-align: right;\">\n",
       "      <th></th>\n",
       "      <th>k values</th>\n",
       "      <th>SVM accuracy</th>\n",
       "      <th>SVM F1-Score</th>\n",
       "      <th>RF accuracy</th>\n",
       "      <th>RF F1-Score</th>\n",
       "      <th>XGB accuracy</th>\n",
       "      <th>XGB F1-Score</th>\n",
       "    </tr>\n",
       "  </thead>\n",
       "  <tbody>\n",
       "    <tr>\n",
       "      <th>0</th>\n",
       "      <td>4491</td>\n",
       "      <td>0.932324</td>\n",
       "      <td>0.930513</td>\n",
       "      <td>0.739092</td>\n",
       "      <td>0.757290</td>\n",
       "      <td>0.968833</td>\n",
       "      <td>0.970180</td>\n",
       "    </tr>\n",
       "    <tr>\n",
       "      <th>1</th>\n",
       "      <td>4501</td>\n",
       "      <td>0.932324</td>\n",
       "      <td>0.930513</td>\n",
       "      <td>0.750668</td>\n",
       "      <td>0.768625</td>\n",
       "      <td>0.967943</td>\n",
       "      <td>0.969336</td>\n",
       "    </tr>\n",
       "  </tbody>\n",
       "</table>\n",
       "</div>"
      ],
      "text/plain": [
       "   k values  SVM accuracy  SVM F1-Score  RF accuracy  RF F1-Score  \\\n",
       "0      4491      0.932324      0.930513     0.739092     0.757290   \n",
       "1      4501      0.932324      0.930513     0.750668     0.768625   \n",
       "\n",
       "   XGB accuracy  XGB F1-Score  \n",
       "0      0.968833      0.970180  \n",
       "1      0.967943      0.969336  "
      ]
     },
     "execution_count": 12,
     "metadata": {},
     "output_type": "execute_result"
    }
   ],
   "source": [
    "#Create a dict\n",
    "validation_evaluation_dict = {\n",
    "    \"k values\": k_arr,\n",
    "    \"SVM accuracy\": svm_acs,\n",
    "    \"SVM F1-Score\": svm_f1s,\n",
    "    \"RF accuracy\": rf_acs,\n",
    "    \"RF F1-Score\": rf_f1s,\n",
    "    \"XGB accuracy\": xgb_acs,\n",
    "    \"XGB F1-Score\": xgb_f1s,\n",
    "}\n",
    "validation_eval_df = pd.DataFrame(validation_evaluation_dict)\n",
    "validation_eval_df.head()"
   ]
  },
  {
   "cell_type": "code",
   "execution_count": 10,
   "metadata": {},
   "outputs": [],
   "source": [
    "validation_eval_df.to_excel(\"../../output/others/20240107_select_k_validation_set.xlsx\", index=False)"
   ]
  }
 ],
 "metadata": {
  "kernelspec": {
   "display_name": "my-rdkit-env",
   "language": "python",
   "name": "python3"
  },
  "language_info": {
   "codemirror_mode": {
    "name": "ipython",
    "version": 3
   },
   "file_extension": ".py",
   "mimetype": "text/x-python",
   "name": "python",
   "nbconvert_exporter": "python",
   "pygments_lexer": "ipython3",
   "version": "3.11.3"
  }
 },
 "nbformat": 4,
 "nbformat_minor": 2
}
